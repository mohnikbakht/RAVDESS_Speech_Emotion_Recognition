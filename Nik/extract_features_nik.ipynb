{
 "cells": [
  {
   "cell_type": "code",
   "execution_count": 52,
   "id": "c5637875-3d93-45e9-9a11-6c6de6e6e732",
   "metadata": {},
   "outputs": [
    {
     "name": "stdout",
     "output_type": "stream",
     "text": [
      "Actor 01\n",
      "Actor 02\n",
      "Actor 03\n",
      "Actor 04\n",
      "Actor 05\n",
      "Actor 06\n",
      "Actor 07\n",
      "Actor 08\n",
      "Actor 09\n",
      "Actor 10\n",
      "Actor 11\n",
      "Actor 12\n",
      "Actor 13\n",
      "Actor 14\n",
      "Actor 15\n",
      "Actor 16\n",
      "Actor 17\n",
      "Actor 18\n",
      "Actor 19\n",
      "Actor 20\n",
      "Actor 21\n",
      "Actor 22\n",
      "Actor 23\n",
      "Actor 24\n"
     ]
    }
   ],
   "source": [
    "from statMLlib import FeatureExtraction\n",
    "\n",
    "import imp\n",
    "imp.reload(FeatureExtraction)\n",
    "\n",
    "\n",
    "root='/home/spongebob*/statML_project/RAVDESS/RAVDESS-emotions-speech-audio-only-master/Audio_Speech_Actors_01-24/'\n",
    "# FeatureExtraction.zeroPadFiles(root)\n",
    "FeatureExtraction.extractFeatures(root, split_by='actor')\n",
    "\n",
    "\n"
   ]
  },
  {
   "cell_type": "code",
   "execution_count": null,
   "id": "2fedebc9-945b-4eea-8afa-e41abc46bcff",
   "metadata": {},
   "outputs": [],
   "source": []
  },
  {
   "cell_type": "code",
   "execution_count": null,
   "id": "0be7e3a5-e322-4574-bd70-2760f902b0c3",
   "metadata": {},
   "outputs": [],
   "source": []
  }
 ],
 "metadata": {
  "kernelspec": {
   "display_name": "Python 3 (ipykernel)",
   "language": "python",
   "name": "python3"
  },
  "language_info": {
   "codemirror_mode": {
    "name": "ipython",
    "version": 3
   },
   "file_extension": ".py",
   "mimetype": "text/x-python",
   "name": "python",
   "nbconvert_exporter": "python",
   "pygments_lexer": "ipython3",
   "version": "3.9.7"
  }
 },
 "nbformat": 4,
 "nbformat_minor": 5
}
