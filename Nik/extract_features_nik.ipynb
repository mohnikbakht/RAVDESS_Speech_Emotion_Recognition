{
 "cells": [
  {
   "cell_type": "code",
   "execution_count": null,
   "id": "c5637875-3d93-45e9-9a11-6c6de6e6e732",
   "metadata": {},
   "outputs": [
    {
     "name": "stdout",
     "output_type": "stream",
     "text": [
      "Actor 01\n",
      "Actor 02\n",
      "Actor 03\n"
     ]
    }
   ],
   "source": [
    "from statMLlib import FeatureExtraction\n",
    "\n",
    "import imp\n",
    "imp.reload(FeatureExtraction)\n",
    "\n",
    "\n",
    "root='/home/spongebob*/statML_project/RAVDESS/RAVDESS-emotions-speech-audio-only-master/Audio_Speech_Actors_01-24/'\n",
    "# FeatureExtraction.zeroPadFiles(root)\n",
    "FeatureExtraction.extractFeatures(root, split_by='actor', Feature_2D=True)\n",
    "\n",
    "\n"
   ]
  },
  {
   "cell_type": "code",
   "execution_count": null,
   "id": "2fedebc9-945b-4eea-8afa-e41abc46bcff",
   "metadata": {},
   "outputs": [],
   "source": []
  },
  {
   "cell_type": "code",
   "execution_count": null,
   "id": "0be7e3a5-e322-4574-bd70-2760f902b0c3",
   "metadata": {},
   "outputs": [],
   "source": []
  }
 ],
 "metadata": {
  "kernelspec": {
   "display_name": "Python 3 (ipykernel)",
   "language": "python",
   "name": "python3"
  },
  "language_info": {
   "codemirror_mode": {
    "name": "ipython",
    "version": 3
   },
   "file_extension": ".py",
   "mimetype": "text/x-python",
   "name": "python",
   "nbconvert_exporter": "python",
   "pygments_lexer": "ipython3",
   "version": "3.9.7"
  }
 },
 "nbformat": 4,
 "nbformat_minor": 5
}
