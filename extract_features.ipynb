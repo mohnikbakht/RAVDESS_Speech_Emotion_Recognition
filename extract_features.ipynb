{
 "cells": [
  {
   "cell_type": "code",
   "execution_count": 89,
   "id": "c5637875-3d93-45e9-9a11-6c6de6e6e732",
   "metadata": {},
   "outputs": [
    {
     "name": "stdout",
     "output_type": "stream",
     "text": [
      "Actor 01\n",
      "Actor 02\n",
      "Actor 03\n",
      "Actor 04\n",
      "Actor 05\n",
      "Actor 06\n",
      "Actor 07\n",
      "Actor 08\n",
      "Actor 09\n",
      "Actor 10\n",
      "Actor 11\n",
      "Actor 12\n",
      "Actor 13\n",
      "Actor 14\n",
      "Actor 15\n",
      "Actor 16\n",
      "Actor 17\n",
      "Actor 18\n",
      "Actor 19\n",
      "Actor 20\n",
      "Actor 21\n",
      "Actor 22\n",
      "Actor 23\n",
      "Actor 24\n"
     ]
    }
   ],
   "source": [
    "from statMLlib import FeatureExtraction\n",
    "\n",
    "import imp\n",
    "imp.reload(FeatureExtraction)\n",
    "\n",
    "features_2d=True\n",
    "\n",
    "root='/home/spongebob*/statML_project/RAVDESS/RAVDESS-emotions-speech-audio-only-master/Audio_Speech_Actors_01-24/'\n",
    "# FeatureExtraction.zeroPadFiles(root)\n",
    "FeatureExtraction.extractFeatures(root, split_by='arb', Feature_2D=features_2d)\n",
    "\n",
    "\n"
   ]
  },
  {
   "cell_type": "code",
   "execution_count": 90,
   "id": "2fedebc9-945b-4eea-8afa-e41abc46bcff",
   "metadata": {},
   "outputs": [
    {
     "name": "stdout",
     "output_type": "stream",
     "text": [
      "total: 640, training: 576, validation: 64, test: 0\n"
     ]
    }
   ],
   "source": [
    "import glob\n",
    "import random\n",
    "\n",
    "train_split, val_split, test_split=0.9, 0.1, 0\n",
    "\n",
    "root_dir='/home/spongebob*/statML_project/RAVDESS/RAVDESS-emotions-speech-audio-only-master/Audio_Speech_Actors_01-24/FeaturesAll/'\n",
    "\n",
    "if features_2d:\n",
    "    path=root_dir+'2d-cnn/'+'arbitrary/training_pot/'\n",
    "\n",
    "else:\n",
    "    path=root_dir+'1d-cnn/'+'arbitrary/training_pot/'\n",
    "\n",
    "file_list = glob.glob(path + \"*.pkl\")\n",
    "# print(file_list)\n",
    "data = []\n",
    "for class_path in file_list:\n",
    "    # class_name = class_path.split(\"/\")[-1]\n",
    "    data.append(class_path)\n",
    "random.shuffle(data)\n",
    "\n",
    "total_samples=len(data)\n",
    "\n",
    "train=data[:int(train_split*total_samples)]\n",
    "val=data[int(train_split*total_samples):int((train_split+val_split)*total_samples)]\n",
    "test=data[int((train_split+val_split+test_split)*total_samples):]\n",
    "\n",
    "print(f\"total: {total_samples}, training: {len(train)}, validation: {len(val)}, test: {len(test)}\")\n",
    "\n"
   ]
  },
  {
   "cell_type": "code",
   "execution_count": 91,
   "id": "0be7e3a5-e322-4574-bd70-2760f902b0c3",
   "metadata": {},
   "outputs": [],
   "source": [
    "import shutil\n",
    "import os\n",
    "from pathlib import Path\n",
    "# absolute path\n",
    "for file in train:\n",
    "    src_path = Path(file)\n",
    "    dst_path = str(src_path.parent.parent)+'/training/'\n",
    "    if not os.path.exists(dst_path):\n",
    "        os.makedirs(dst_path)\n",
    "    shutil.copy(src_path, dst_path)\n",
    "    \n",
    "for file in val:\n",
    "    src_path = Path(file)\n",
    "    dst_path = str(src_path.parent.parent)+'/valid/'\n",
    "    if not os.path.exists(dst_path):\n",
    "        os.makedirs(dst_path)\n",
    "    shutil.copy(src_path, dst_path)\n",
    "    \n",
    "# for file in test:\n",
    "#     src_path = Path(file)\n",
    "#     dst_path = str(src_path.parent.parent)+'/test/'\n",
    "#     shutil.copy(src_path, dst_path)"
   ]
  },
  {
   "cell_type": "code",
   "execution_count": null,
   "id": "cfbf4888-35bb-40a5-93f0-0795cae5426a",
   "metadata": {},
   "outputs": [],
   "source": []
  },
  {
   "cell_type": "code",
   "execution_count": null,
   "id": "1e1f4b9d-a4bc-426b-92f5-5cf3d9dbc631",
   "metadata": {},
   "outputs": [],
   "source": []
  }
 ],
 "metadata": {
  "kernelspec": {
   "display_name": "Python 3 (ipykernel)",
   "language": "python",
   "name": "python3"
  },
  "language_info": {
   "codemirror_mode": {
    "name": "ipython",
    "version": 3
   },
   "file_extension": ".py",
   "mimetype": "text/x-python",
   "name": "python",
   "nbconvert_exporter": "python",
   "pygments_lexer": "ipython3",
   "version": "3.9.7"
  }
 },
 "nbformat": 4,
 "nbformat_minor": 5
}
