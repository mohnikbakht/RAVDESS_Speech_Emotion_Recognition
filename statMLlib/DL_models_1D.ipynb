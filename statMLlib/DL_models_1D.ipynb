{
 "cells": [
  {
   "cell_type": "markdown",
   "id": "d313ea48-91ea-453e-aadd-e0aabe3527a9",
   "metadata": {},
   "source": [
    "## CUDA and SPLIT\n"
   ]
  },
  {
   "cell_type": "code",
   "execution_count": 1,
   "id": "b5b18c44-e12a-4cb6-94ef-b2e3eba6334d",
   "metadata": {},
   "outputs": [],
   "source": [
    "from torch.utils.data import DataLoader\n",
    "from statMLlib.DatasetWrapper import RAVDESSFeatureDataset\n",
    "\n",
    "import torch\n",
    "import torch.nn as nn\n",
    "import torch.nn.functional as F\n",
    "\n",
    "DEVICE = torch.device('cuda' if torch.cuda.is_available() else 'cpu')\n",
    "torch.cuda.empty_cache()\n",
    "SPLIT_BY = 'arb'"
   ]
  },
  {
   "cell_type": "markdown",
   "id": "82eaad13-b4a4-4d1b-91f5-27c13d1c4e80",
   "metadata": {},
   "source": [
    "## Calculate Normalization Vectors"
   ]
  },
  {
   "cell_type": "code",
   "execution_count": 2,
   "id": "27faa1a1-ab9a-4c27-95eb-4fd4ce8a2ba0",
   "metadata": {},
   "outputs": [
    {
     "name": "stdout",
     "output_type": "stream",
     "text": [
      "Shape of global mean: torch.Size([1, 1])\n",
      "Shape of global standard dev: torch.Size([1, 1])\n",
      "Shape of channel mean: torch.Size([1, 186])\n",
      "Shape of channel standard dev: torch.Size([1, 186])\n"
     ]
    }
   ],
   "source": [
    "from statMLlib import DatasetWrapper \n",
    "import imp\n",
    "imp.reload(DatasetWrapper)\n",
    "from statMLlib.DatasetWrapper import RAVDESSFeatureDataset\n",
    "from torch.utils.data import DataLoader\n",
    "\n",
    "class StatsRecorder:\n",
    "    def __init__(self, red_dims=(0,1,2)):\n",
    "        \"\"\"Accumulates normalization statistics across mini-batches.\n",
    "        ref: http://notmatthancock.github.io/2017/03/23/simple-batch-stat-updates.html\n",
    "        \"\"\"\n",
    "        self.red_dims = red_dims # which mini-batch dimensions to average over\n",
    "        self.nobservations = 0   # running number of observations\n",
    "\n",
    "    def update(self, data):\n",
    "        \"\"\"\n",
    "        data: ndarray, shape (nobservations, ndimensions)\n",
    "        \"\"\"\n",
    "        # initialize stats and dimensions on first batch\n",
    "        if self.nobservations == 0:\n",
    "            self.mean = data.mean(dim=self.red_dims, keepdim=True)\n",
    "            self.std  = data.std (dim=self.red_dims,keepdim=True)\n",
    "            self.nobservations = data.shape[0]\n",
    "            self.ndimensions   = data.shape[1]\n",
    "        else:\n",
    "            if data.shape[1] != self.ndimensions:\n",
    "                raise ValueError('Data dims do not match previous observations.')\n",
    "            \n",
    "            # find mean of new mini batch\n",
    "            newmean = data.mean(dim=self.red_dims, keepdim=True)\n",
    "            newstd  = data.std(dim=self.red_dims, keepdim=True)\n",
    "            \n",
    "            # update number of observations\n",
    "            m = self.nobservations * 1.0\n",
    "            n = data.shape[0]\n",
    "\n",
    "            # update running statistics\n",
    "            tmp = self.mean\n",
    "            self.mean = m/(m+n)*tmp + n/(m+n)*newmean\n",
    "            self.std  = m/(m+n)*self.std**2 + n/(m+n)*newstd**2 +\\\n",
    "                        m*n/(m+n)**2 * (tmp - newmean)**2\n",
    "            self.std  = torch.sqrt(self.std)\n",
    "                                 \n",
    "            # update total number of seen samples\n",
    "            self.nobservations += n\n",
    "\n",
    "\n",
    "root_features='/home/spongebob*/statML_project/RAVDESS/RAVDESS-emotions-speech-audio-only-master/Audio_Speech_Actors_01-24/FeaturesAll/1d-cnn/'\n",
    "\n",
    "train_iter = RAVDESSFeatureDataset(split='train',split_by=SPLIT_BY, root_dir=root_features)#Multi30k(split='train', language_pair=(SRC_LANGUAGE, TGT_LANGUAGE))\n",
    "train_dataloader = DataLoader(train_iter, batch_size=8, shuffle=True)\n",
    "\n",
    "# create recorders\n",
    "global_stats  = StatsRecorder()\n",
    "channel_stats = StatsRecorder(red_dims=(0,1))\n",
    "\n",
    "# step through the training dataset\n",
    "with torch.no_grad():\n",
    "    \n",
    "    for idx,(x,y) in enumerate(iter(train_dataloader)):\n",
    "        # print(x.shape)\n",
    "        # print((torch.mean(x, axis=1)))\n",
    "        # update normalization statistics\n",
    "        # x=(x-torch.mean(x))/torch.std(x)\n",
    "        global_stats.update(x)\n",
    "        channel_stats.update(x)\n",
    "    \n",
    "# parse out both sets of stats\n",
    "global_mean,global_std = global_stats.mean,global_stats.std\n",
    "global_mean=global_mean.squeeze(0)\n",
    "global_std=global_std.squeeze(0)\n",
    "\n",
    "\n",
    "channel_mean,channel_std = channel_stats.mean,channel_stats.std\n",
    "channel_mean=channel_mean.squeeze(0)\n",
    "channel_std=channel_std.squeeze(0)\n",
    "\n",
    "print(f'Shape of global mean: {global_mean.shape}')\n",
    "print(f'Shape of global standard dev: {global_std.shape}')\n",
    "\n",
    "print(f'Shape of channel mean: {channel_mean.shape}')\n",
    "print(f'Shape of channel standard dev: {channel_std.shape}')\n",
    "# print(channel_mean)\n",
    "global_mean.to(DEVICE)\n",
    "global_std.to(DEVICE)\n",
    "\n",
    "channel_mean.to(DEVICE)\n",
    "channel_std.to(DEVICE)\n",
    "\n",
    "# print(channel_std)\n",
    "pass\n"
   ]
  },
  {
   "cell_type": "markdown",
   "id": "04a94d4a-a8c8-4305-b81c-c86fc212ada8",
   "metadata": {},
   "source": [
    "## check sample"
   ]
  },
  {
   "cell_type": "code",
   "execution_count": 13,
   "id": "0f19fe7b-14cd-460e-9e0f-0958de3a945b",
   "metadata": {},
   "outputs": [
    {
     "name": "stdout",
     "output_type": "stream",
     "text": [
      "torch.Size([16, 1, 186])\n",
      "tensor(-0.1768, device='cuda:0')\n"
     ]
    },
    {
     "data": {
      "image/png": "[encoded data removed]",
      "text/plain": [
       "<Figure size 576x72 with 1 Axes>"
      ]
     },
     "metadata": {
      "needs_background": "light"
     },
     "output_type": "display_data"
    },
    {
     "data": {
      "image/png": "[encoded data removed]",
      "text/plain": [
       "<Figure size 576x72 with 1 Axes>"
      ]
     },
     "metadata": {
      "needs_background": "light"
     },
     "output_type": "display_data"
    },
    {
     "data": {
      "image/png": "[encoded data removed]",
      "text/plain": [
       "<Figure size 576x72 with 1 Axes>"
      ]
     },
     "metadata": {
      "needs_background": "light"
     },
     "output_type": "display_data"
    },
    {
     "data": {
      "image/png": "[encoded data removed]",
      "text/plain": [
       "<Figure size 576x72 with 1 Axes>"
      ]
     },
     "metadata": {
      "needs_background": "light"
     },
     "output_type": "display_data"
    },
    {
     "data": {
      "image/png": "[encoded data removed]",
      "text/plain": [
       "<Figure size 576x72 with 1 Axes>"
      ]
     },
     "metadata": {
      "needs_background": "light"
     },
     "output_type": "display_data"
    }
   ],
   "source": [
    "from statMLlib import DatasetWrapper \n",
    "import imp\n",
    "imp.reload(DatasetWrapper)\n",
    "from statMLlib.DatasetWrapper import RAVDESSFeatureDataset\n",
    "\n",
    "\n",
    "from torch.utils.data import DataLoader\n",
    "import matplotlib.pyplot as plt \n",
    "\n",
    "root_features='/home/spongebob*/statML_project/RAVDESS/RAVDESS-emotions-speech-audio-only-master/Audio_Speech_Actors_01-24/FeaturesAll/1d-cnn/'\n",
    "\n",
    "train_iter = RAVDESSFeatureDataset(split='train',split_by=SPLIT_BY, root_dir=root_features, mean=channel_mean, std= channel_std)#Multi30k(split='train', language_pair=(SRC_LANGUAGE, TGT_LANGUAGE))\n",
    "train_dataloader = DataLoader(train_iter, batch_size=16, shuffle=False)\n",
    "\n",
    "\n",
    "imput_dim=(None,None)\n",
    "\n",
    "for src, tgt in train_dataloader:\n",
    "    src = src.to(DEVICE)\n",
    "    tgt = tgt.to(DEVICE)\n",
    "    \n",
    "    print(src.shape)\n",
    "    \n",
    "    imput_dim=(src.shape[1], src.shape[2])\n",
    "#     print(tgt.shape)\n",
    "#     print(torch.mean(src, axis=1).shape)\n",
    "    \n",
    "\n",
    "    print(torch.mean(src[0][0]))\n",
    "    fig=plt.figure(figsize=(8,1))\n",
    "    # plt.plot(src.cpu().numpy()[1])\n",
    "    plt.title(\"Concatenated Features\", fontsize=18)\n",
    "    imgplot = plt.imshow(src.cpu().numpy()[1], cmap=plt.get_cmap( 'inferno'),aspect='auto')\n",
    "    \n",
    "    fig=plt.figure(figsize=(8,1))\n",
    "    # plt.plot(src.cpu().numpy()[1])\n",
    "    plt.title(\"1D MFCC\", fontsize=18)\n",
    "    imgplot = plt.imshow(src.cpu().numpy()[1][:,:40], cmap=plt.get_cmap( 'inferno'),aspect='auto')\n",
    "    \n",
    "    fig=plt.figure(figsize=(8,1))\n",
    "    # plt.plot(src.cpu().numpy()[1])\n",
    "    plt.title(\"1D Mel-spectroram\", fontsize=18)\n",
    "    imgplot = plt.imshow(src.cpu().numpy()[1][:,40:168], cmap=plt.get_cmap( 'inferno'),aspect='auto')\n",
    "    \n",
    "    \n",
    "    fig=plt.figure(figsize=(8,1))\n",
    "    # plt.plot(src.cpu().numpy()[1])\n",
    "    plt.title(\"1D Chromagram\", fontsize=18)\n",
    "    imgplot = plt.imshow(src.cpu().numpy()[1][:,168:180], cmap=plt.get_cmap( 'inferno'),aspect='auto')\n",
    "    \n",
    "    \n",
    "    fig=plt.figure(figsize=(8,1))\n",
    "    # plt.plot(src.cpu().numpy()[1])\n",
    "    plt.title(\"1D Global Features\", fontsize=18)\n",
    "    imgplot = plt.imshow(src.cpu().numpy()[1][:,180:], cmap=plt.get_cmap( 'inferno'),aspect='auto')\n",
    "    \n",
    "    # print(std)\n",
    "    # print(src.cpu().numpy()[5])\n",
    "\n",
    "    break\n",
    "    \n",
    "    \n",
    "\n",
    "\n",
    "\n"
   ]
  },
  {
   "cell_type": "markdown",
   "id": "fa73e7bd-a07f-40f2-85ec-0400cef3ce8c",
   "metadata": {},
   "source": [
    "## Train Eval functions"
   ]
  },
  {
   "cell_type": "code",
   "execution_count": 4,
   "id": "61117f98-88da-42ac-bb0f-99a9b4fe9deb",
   "metadata": {},
   "outputs": [],
   "source": [
    "\n",
    "root_features='/home/spongebob*/statML_project/RAVDESS/RAVDESS-emotions-speech-audio-only-master/Audio_Speech_Actors_01-24/FeaturesAll/1d-cnn/'\n",
    "\n",
    "def train_epoch(model, optimizer):\n",
    "    model.train()\n",
    "    losses = 0\n",
    "\n",
    "    train_iter = RAVDESSFeatureDataset(split='train',split_by=SPLIT_BY, root_dir=root_features, mean=MEAN, std= STD)#Multi30k(split='train', language_pair=(SRC_LANGUAGE, TGT_LANGUAGE))\n",
    "    train_dataloader = DataLoader(train_iter, batch_size=BATCH_SIZE, shuffle=True)\n",
    "    \n",
    "    for src, tgt in train_dataloader:\n",
    "        src = src.to(DEVICE)\n",
    "        tgt = tgt.to(DEVICE)\n",
    "        \n",
    "#         if(NORM=='channel'):\n",
    "#             mean=channel_mean.repeat(src.shape[0],1,src.shape[2]).to(DEVICE)\n",
    "#             std=channel_std.repeat(src.shape[0],1,src.shape[2]).to(DEVICE)\n",
    "        \n",
    "#         elif NORM == 'global':\n",
    "#             mean=global_mean.repeat(src.shape[0],src.shape[1],src.shape[2]).to(DEVICE)\n",
    "#             std=global_std.repeat(src.shape[0],src.shape[1],src.shape[2]).to(DEVICE)\n",
    "            \n",
    "#         else:\n",
    "#             mean=torch.tensor(0).to(DEVICE)\n",
    "#             std=torch.tensor(1).to(DEVICE)\n",
    "            \n",
    "#         # src=(src-torch.mean(src, axis=1))/torch.std(src, axis=1)\n",
    "#         src_norm=(src-mean)/std\n",
    "        \n",
    "        logits = model(src)\n",
    "        # print(logits.shape)\n",
    "\n",
    "        optimizer.zero_grad()\n",
    "        \n",
    "       \n",
    "\n",
    "        loss = loss_fn(logits, tgt)\n",
    "        # print(loss)\n",
    "        # loss = loss_fn(logits, tgt_out)\n",
    "\n",
    "        loss.backward()\n",
    "\n",
    "        optimizer.step()\n",
    "        losses += loss.item()\n",
    "\n",
    "    return losses / len(train_dataloader)\n",
    "\n",
    "\n",
    "def evaluate(model):\n",
    "    model.eval()\n",
    "    losses = 0\n",
    "\n",
    "    \n",
    "    val_iter = RAVDESSFeatureDataset(split='valid',split_by=SPLIT_BY, root_dir=root_features, mean=MEAN, std= STD)#Multi30k(split='train', language_pair=(SRC_LANGUAGE, TGT_LANGUAGE))\n",
    "    val_dataloader = DataLoader(val_iter, batch_size=BATCH_SIZE, shuffle=True)\n",
    "    \n",
    "    for src, tgt in val_dataloader:\n",
    "        src = src.to(DEVICE)\n",
    "        tgt = tgt.to(DEVICE)\n",
    "        \n",
    "#         if NORM=='channel':\n",
    "#             mean=channel_mean.repeat(src.shape[0],1,src.shape[2]).to(DEVICE)\n",
    "#             std=channel_std.repeat(src.shape[0],1,src.shape[2]).to(DEVICE)\n",
    "        \n",
    "#         elif NORM == 'global':\n",
    "#             mean=global_mean.repeat(src.shape[0],src.shape[1],src.shape[2]).to(DEVICE)\n",
    "#             std=global_std.repeat(src.shape[0],src.shape[1],src.shape[2]).to(DEVICE)\n",
    "            \n",
    "#         else:\n",
    "#             mean=torch.tensor(0).to(DEVICE)\n",
    "#             std=torch.tensor(1).to(DEVICE)\n",
    "            \n",
    "#         # src=(src-torch.mean(src))/torch.std(src)\n",
    "#         src_norm=(src-mean)/std\n",
    "\n",
    "        logits = model(src)\n",
    "  \n",
    "        loss = loss_fn(logits, tgt)\n",
    "     \n",
    "        losses += loss.item()\n",
    "    \n",
    "    \n",
    "    \n",
    "    return losses / len(val_dataloader)\n",
    "\n",
    "\n",
    "\n",
    "def train_deploy_epoch(model, optimizer):\n",
    "    model.train()\n",
    "    losses = 0\n",
    "\n",
    "    train_iter = RAVDESSFeatureDataset(split='train_all',split_by=SPLIT_BY, root_dir=root_features, mean=MEAN, std= STD, feature_2d=False)#Multi30k(split='train', language_pair=(SRC_LANGUAGE, TGT_LANGUAGE))\n",
    "    train_dataloader = DataLoader(train_iter, batch_size=BATCH_SIZE, shuffle=True)\n",
    "    \n",
    "    for src, tgt in train_dataloader:\n",
    "        src = src.to(DEVICE)\n",
    "        tgt = tgt.to(DEVICE)\n",
    "        \n",
    "        \n",
    "        logits = model(src)\n",
    "        # print(logits.shape)\n",
    "\n",
    "        optimizer.zero_grad()\n",
    "        \n",
    "       \n",
    "\n",
    "        loss = loss_fn(logits, tgt)\n",
    "        # print(loss)\n",
    "        # loss = loss_fn(logits, tgt_out)\n",
    "\n",
    "        loss.backward()\n",
    "\n",
    "        optimizer.step()\n",
    "        losses += loss.item()\n",
    "\n",
    "    return losses / len(train_dataloader)"
   ]
  },
  {
   "cell_type": "markdown",
   "id": "920ada28-39e6-445b-9158-8ce68bfa78d2",
   "metadata": {},
   "source": [
    "# MLP"
   ]
  },
  {
   "cell_type": "code",
   "execution_count": 5,
   "id": "7704dce6-eb1b-4ea1-86b1-8ce20bc312fb",
   "metadata": {},
   "outputs": [],
   "source": [
    "\n",
    "\n",
    "class Ravdess_MLP(nn.Module):\n",
    "\n",
    "    def __init__(self, input_size, tgt_class_cnt, num_of_layers):\n",
    "        super(Ravdess_MLP, self).__init__()\n",
    "        # an affine operation: y = Wx + b\n",
    "        self.input_size=input_size\n",
    "        self.tgt_class_cnt=tgt_class_cnt\n",
    "        \n",
    "        self.hidden_dim=input_size*4#int(self.input_size/2)\n",
    "                               \n",
    "        self.linear_relu_stack1 = nn.Sequential(\n",
    "\n",
    "           \n",
    "            nn.Linear(input_size, int(self.hidden_dim/2)),\n",
    "            nn.BatchNorm1d(int(self.hidden_dim/2)),\n",
    "            nn.ReLU(),\n",
    "            # nn.Dropout(0.2),\n",
    "            \n",
    "            nn.Linear(int(self.hidden_dim/2), self.hidden_dim),\n",
    "            nn.BatchNorm1d(self.hidden_dim),\n",
    "            nn.ReLU(),\n",
    "            nn.Dropout(0.4),\n",
    "            \n",
    "            \n",
    "            nn.Linear(self.hidden_dim, self.hidden_dim),\n",
    "            nn.BatchNorm1d(self.hidden_dim),\n",
    "            nn.ReLU(),\n",
    "            # nn.Dropout(0.1),\n",
    "        )\n",
    "        \n",
    "#         self.hidden = []\n",
    "#         for k in range(num_of_layers):\n",
    "#             self.hidden.append(nn.Linear(self.hidden_dim, self.hidden_dim))\n",
    "#             self.hidden.append(nn.BatchNorm1d(self.hidden_dim))\n",
    "#             self.hidden.append(nn.ReLU())\n",
    "#             # self.hidden.append(nn.Dropout(0.1))\n",
    "\n",
    "\n",
    "#         self.linear_relu_stack2 = nn.Sequential(*self.hidden)\n",
    "        \n",
    "        self.linear_relu_stack3 = nn.Sequential(\n",
    "  \n",
    "            # nn.Linear(self.hidden_dim, int(self.hidden_dim)),\n",
    "            # nn.BatchNorm1d(int(self.hidden_dim)),\n",
    "            # nn.ReLU(),\n",
    "            # nn.Dropout(0.2),\n",
    "            \n",
    "            nn.Linear(int(self.hidden_dim), int(self.hidden_dim/2)),\n",
    "            nn.BatchNorm1d(int(self.hidden_dim/2)),\n",
    "            nn.ReLU(),\n",
    "            nn.Dropout(0.2),\n",
    "            \n",
    "#             nn.Linear(int(self.hidden_dim/4), int(self.hidden_dim/8)),\n",
    "#             nn.BatchNorm1d(int(self.hidden_dim/8)),\n",
    "#             nn.ReLU(),\n",
    "            # nn.Dropout(0.1),\n",
    "            \n",
    "            nn.Linear(int(self.hidden_dim/2), tgt_class_cnt)\n",
    "  \n",
    "#             nn.Dropout(0.5),\n",
    "           \n",
    "\n",
    "        )\n",
    "   \n",
    "    def forward(self, x):\n",
    "       \n",
    "        x = torch.flatten(x, 1) # flatten all dimensions except the batch dimension\n",
    "        x = self.linear_relu_stack1(x)\n",
    "        # x = self.linear_relu_stack2(x)\n",
    "        x = self.linear_relu_stack3(x)\n",
    "        \n",
    "\n",
    "        return x\n",
    "\n",
    "\n"
   ]
  },
  {
   "cell_type": "code",
   "execution_count": 6,
   "id": "3ab94c8e-4b00-4a52-9007-d8d1213eb57b",
   "metadata": {},
   "outputs": [
    {
     "name": "stdout",
     "output_type": "stream",
     "text": [
      "=================================================================\n",
      "Layer (type:depth-idx)                   Param #\n",
      "=================================================================\n",
      "├─Sequential: 1-1                        --\n",
      "|    └─Linear: 2-1                       69,564\n",
      "|    └─BatchNorm1d: 2-2                  744\n",
      "|    └─ReLU: 2-3                         --\n",
      "|    └─Linear: 2-4                       277,512\n",
      "|    └─BatchNorm1d: 2-5                  1,488\n",
      "|    └─ReLU: 2-6                         --\n",
      "|    └─Dropout: 2-7                      --\n",
      "|    └─Linear: 2-8                       554,280\n",
      "|    └─BatchNorm1d: 2-9                  1,488\n",
      "|    └─ReLU: 2-10                        --\n",
      "├─Sequential: 1-2                        --\n",
      "|    └─Linear: 2-11                      277,140\n",
      "|    └─BatchNorm1d: 2-12                 744\n",
      "|    └─ReLU: 2-13                        --\n",
      "|    └─Dropout: 2-14                     --\n",
      "|    └─Linear: 2-15                      2,984\n",
      "=================================================================\n",
      "Total params: 1,185,944\n",
      "Trainable params: 1,185,944\n",
      "Non-trainable params: 0\n",
      "=================================================================\n",
      "Ravdess_MLP(\n",
      "  (linear_relu_stack1): Sequential(\n",
      "    (0): Linear(in_features=186, out_features=372, bias=True)\n",
      "    (1): BatchNorm1d(372, eps=1e-05, momentum=0.1, affine=True, track_running_stats=True)\n",
      "    (2): ReLU()\n",
      "    (3): Linear(in_features=372, out_features=744, bias=True)\n",
      "    (4): BatchNorm1d(744, eps=1e-05, momentum=0.1, affine=True, track_running_stats=True)\n",
      "    (5): ReLU()\n",
      "    (6): Dropout(p=0.4, inplace=False)\n",
      "    (7): Linear(in_features=744, out_features=744, bias=True)\n",
      "    (8): BatchNorm1d(744, eps=1e-05, momentum=0.1, affine=True, track_running_stats=True)\n",
      "    (9): ReLU()\n",
      "  )\n",
      "  (linear_relu_stack3): Sequential(\n",
      "    (0): Linear(in_features=744, out_features=372, bias=True)\n",
      "    (1): BatchNorm1d(372, eps=1e-05, momentum=0.1, affine=True, track_running_stats=True)\n",
      "    (2): ReLU()\n",
      "    (3): Dropout(p=0.2, inplace=False)\n",
      "    (4): Linear(in_features=372, out_features=8, bias=True)\n",
      "  )\n",
      ")\n"
     ]
    }
   ],
   "source": [
    "from torchsummary import summary\n",
    "\n",
    "INPUT_SIZE=imput_dim[0]*imput_dim[1]\n",
    "TGT_CLASS_CNT=8\n",
    "\n",
    "lr=0.0001\n",
    "betas=(0.9, 0.98)\n",
    "eps=1e-9\n",
    "\n",
    "mlp = Ravdess_MLP(input_size=INPUT_SIZE, tgt_class_cnt=TGT_CLASS_CNT, num_of_layers=2)\n",
    "# print(mlp)\n",
    "# params = list(mlp.parameters())\n",
    "# print(len(params))\n",
    "# print(params[0].size())  # conv1's .weight\n",
    "\n",
    "summary(mlp)\n",
    "print(mlp)\n",
    "for p in mlp.parameters():\n",
    "    if p.dim() > 1:\n",
    "        nn.init.kaiming_uniform_(p)\n",
    "\n",
    "mlp = mlp.to(DEVICE)\n",
    "\n",
    "# loss_fn = torch.nn.KLDivLoss(reduction='batchmean')\n",
    "loss_fn = torch.nn.CrossEntropyLoss()\n",
    "\n",
    "optimizer = torch.optim.Adam(mlp.parameters(), lr=lr, betas=betas, eps=eps)"
   ]
  },
  {
   "cell_type": "code",
   "execution_count": 7,
   "id": "ae83d023-22b0-44bf-8b8c-6ab1c3ecfb98",
   "metadata": {},
   "outputs": [
    {
     "name": "stderr",
     "output_type": "stream",
     "text": [
      "\u001b[34m\u001b[1mwandb\u001b[0m: Currently logged in as: \u001b[33mmohnik\u001b[0m (use `wandb login --relogin` to force relogin)\n"
     ]
    },
    {
     "data": {
      "text/html": [
       "\n",
       "                    Syncing run <strong><a href=\"https://wandb.ai/mohnik/statML/runs/2hdkn6rt\" target=\"_blank\">distinctive-wildflower-333</a></strong> to <a href=\"https://wandb.ai/mohnik/statML\" target=\"_blank\">Weights & Biases</a> (<a href=\"https://docs.wandb.com/integrations/jupyter.html\" target=\"_blank\">docs</a>).<br/>\n",
       "\n",
       "                "
      ],
      "text/plain": [
       "<IPython.core.display.HTML object>"
      ]
     },
     "metadata": {},
     "output_type": "display_data"
    },
    {
     "name": "stdout",
     "output_type": "stream",
     "text": [
      "Epoch: 1, Train loss: 2.231, Val loss: 1.732, Epoch time = 0.864s\n",
      "Epoch: 2, Train loss: 1.975, Val loss: 1.655, Epoch time = 0.823s\n",
      "Epoch: 3, Train loss: 1.781, Val loss: 1.551, Epoch time = 0.782s\n",
      "Epoch: 4, Train loss: 1.746, Val loss: 1.533, Epoch time = 0.819s\n",
      "Epoch: 5, Train loss: 1.630, Val loss: 1.473, Epoch time = 0.835s\n",
      "Epoch: 6, Train loss: 1.610, Val loss: 1.446, Epoch time = 0.808s\n",
      "Epoch: 7, Train loss: 1.497, Val loss: 1.384, Epoch time = 0.785s\n",
      "Epoch: 8, Train loss: 1.448, Val loss: 1.349, Epoch time = 0.818s\n",
      "Epoch: 9, Train loss: 1.460, Val loss: 1.358, Epoch time = 0.814s\n",
      "Epoch: 10, Train loss: 1.406, Val loss: 1.295, Epoch time = 0.783s\n",
      "Epoch: 11, Train loss: 1.409, Val loss: 1.236, Epoch time = 0.759s\n",
      "Epoch: 12, Train loss: 1.340, Val loss: 1.217, Epoch time = 0.801s\n",
      "Epoch: 13, Train loss: 1.330, Val loss: 1.240, Epoch time = 0.769s\n",
      "Epoch: 14, Train loss: 1.254, Val loss: 1.217, Epoch time = 0.762s\n",
      "Epoch: 15, Train loss: 1.219, Val loss: 1.227, Epoch time = 0.769s\n",
      "Epoch: 16, Train loss: 1.222, Val loss: 1.164, Epoch time = 0.767s\n",
      "Epoch: 17, Train loss: 1.210, Val loss: 1.165, Epoch time = 0.780s\n",
      "Epoch: 18, Train loss: 1.169, Val loss: 1.156, Epoch time = 0.763s\n",
      "Epoch: 19, Train loss: 1.152, Val loss: 1.138, Epoch time = 0.772s\n",
      "Epoch: 20, Train loss: 1.180, Val loss: 1.108, Epoch time = 0.777s\n",
      "Epoch: 21, Train loss: 1.096, Val loss: 1.092, Epoch time = 0.758s\n",
      "Epoch: 22, Train loss: 1.055, Val loss: 1.127, Epoch time = 0.782s\n",
      "Epoch: 23, Train loss: 1.070, Val loss: 1.079, Epoch time = 0.769s\n",
      "Epoch: 24, Train loss: 1.027, Val loss: 1.069, Epoch time = 0.778s\n",
      "Epoch: 25, Train loss: 1.013, Val loss: 1.033, Epoch time = 0.779s\n",
      "Epoch: 26, Train loss: 0.942, Val loss: 1.068, Epoch time = 0.773s\n",
      "Epoch: 27, Train loss: 1.003, Val loss: 1.026, Epoch time = 0.817s\n",
      "Epoch: 28, Train loss: 0.920, Val loss: 1.018, Epoch time = 0.754s\n",
      "Epoch: 29, Train loss: 0.957, Val loss: 1.046, Epoch time = 0.748s\n",
      "Epoch: 30, Train loss: 0.985, Val loss: 1.048, Epoch time = 0.768s\n",
      "Epoch: 31, Train loss: 0.895, Val loss: 1.024, Epoch time = 0.747s\n",
      "Epoch: 32, Train loss: 0.897, Val loss: 1.046, Epoch time = 0.756s\n",
      "Epoch: 33, Train loss: 0.887, Val loss: 1.087, Epoch time = 0.751s\n",
      "Epoch: 34, Train loss: 0.891, Val loss: 1.043, Epoch time = 0.749s\n",
      "Epoch: 35, Train loss: 0.868, Val loss: 1.040, Epoch time = 0.756s\n",
      "Epoch: 36, Train loss: 0.824, Val loss: 1.061, Epoch time = 0.760s\n",
      "Epoch: 37, Train loss: 0.824, Val loss: 0.999, Epoch time = 0.760s\n",
      "Epoch: 38, Train loss: 0.814, Val loss: 1.015, Epoch time = 0.745s\n",
      "Epoch: 39, Train loss: 0.835, Val loss: 0.988, Epoch time = 0.758s\n",
      "Epoch: 40, Train loss: 0.785, Val loss: 0.992, Epoch time = 0.785s\n",
      "Epoch: 41, Train loss: 0.780, Val loss: 0.939, Epoch time = 0.750s\n",
      "Epoch: 42, Train loss: 0.737, Val loss: 0.952, Epoch time = 0.734s\n",
      "Epoch: 43, Train loss: 0.697, Val loss: 0.984, Epoch time = 0.717s\n",
      "Epoch: 44, Train loss: 0.718, Val loss: 0.988, Epoch time = 0.723s\n",
      "Epoch: 45, Train loss: 0.739, Val loss: 0.954, Epoch time = 0.719s\n",
      "Epoch: 46, Train loss: 0.714, Val loss: 0.973, Epoch time = 0.704s\n",
      "Epoch: 47, Train loss: 0.687, Val loss: 0.965, Epoch time = 0.789s\n",
      "Epoch: 48, Train loss: 0.705, Val loss: 0.941, Epoch time = 0.863s\n",
      "Epoch: 49, Train loss: 0.705, Val loss: 0.946, Epoch time = 0.776s\n",
      "Epoch: 50, Train loss: 0.669, Val loss: 0.967, Epoch time = 0.714s\n",
      "Epoch: 51, Train loss: 0.668, Val loss: 0.947, Epoch time = 0.705s\n",
      "Epoch: 52, Train loss: 0.653, Val loss: 0.939, Epoch time = 0.710s\n",
      "Epoch: 53, Train loss: 0.590, Val loss: 0.936, Epoch time = 0.706s\n",
      "Epoch: 54, Train loss: 0.663, Val loss: 0.914, Epoch time = 0.705s\n",
      "Epoch: 55, Train loss: 0.611, Val loss: 0.922, Epoch time = 0.861s\n",
      "Epoch: 56, Train loss: 0.635, Val loss: 1.009, Epoch time = 0.846s\n",
      "Epoch: 57, Train loss: 0.637, Val loss: 0.893, Epoch time = 0.782s\n",
      "Epoch: 58, Train loss: 0.589, Val loss: 0.982, Epoch time = 0.785s\n",
      "Epoch: 59, Train loss: 0.527, Val loss: 0.952, Epoch time = 0.712s\n",
      "Epoch: 60, Train loss: 0.578, Val loss: 0.940, Epoch time = 0.735s\n"
     ]
    }
   ],
   "source": [
    "from timeit import default_timer as timer\n",
    "import wandb\n",
    "\n",
    "\n",
    "NUM_EPOCHS = 60\n",
    "NORM=None#'channel'\n",
    "BATCH_SIZE = 8 #128\n",
    "\n",
    "if NORM=='channel':\n",
    "    MEAN=channel_mean\n",
    "    STD=channel_std\n",
    "elif NORM=='global':\n",
    "    MEAN=global_mean\n",
    "    STD=global_std\n",
    "else:\n",
    "    MEAN=0\n",
    "    STD=1\n",
    "\n",
    "# start a new experiment\n",
    "wandb.init(project=\"statML\", entity=\"mohnik\")\n",
    "\n",
    "# capture a dictionary of hyperparameters with config\n",
    "wandb.config = {\"learning_rate\": lr, \"epochs\": NUM_EPOCHS, \"batch_size\": BATCH_SIZE}\n",
    "\n",
    "wandb.watch(mlp, loss_fn, log='all', log_freq=20)\n",
    "\n",
    "for epoch in range(1, NUM_EPOCHS+1):\n",
    "    start_time = timer()\n",
    "    train_loss = train_epoch(mlp, optimizer)\n",
    "    end_time = timer()\n",
    "    # if epoch%10==0:\n",
    "    #     PATH=f\"checkpoints/checkpoint_{epoch}.pt\"\n",
    "    #     torch.save({\n",
    "    #             'epoch': epoch,\n",
    "    #             'model_state_dict': transformer.state_dict(),\n",
    "    #             'optimizer_state_dict': optimizer.state_dict(),\n",
    "    #             'loss': train_loss,\n",
    "    #             }, PATH)\n",
    "    val_loss = evaluate(mlp)\n",
    "     # Where the magic happens\n",
    "    wandb.log({\"epoch\": epoch, \"train_loss\": train_loss, \"val_loss\": val_loss})\n",
    "    \n",
    "\n",
    "    # Optional\n",
    "    # wandb.watch(mlp)\n",
    "\n",
    "    print((f\"Epoch: {epoch}, Train loss: {train_loss:.3f}, Val loss: {val_loss:.3f}, \"f\"Epoch time = {(end_time - start_time):.3f}s\"))\n",
    "\n",
    "    \n",
    "    \n",
    "\n"
   ]
  },
  {
   "cell_type": "markdown",
   "id": "d664fbc6-3fc1-4707-8ebd-aa8234d4a0be",
   "metadata": {},
   "source": [
    "## train validation performance"
   ]
  },
  {
   "cell_type": "code",
   "execution_count": 8,
   "id": "2ecdd298-3257-469a-81e6-678574bfbe79",
   "metadata": {},
   "outputs": [
    {
     "data": {
      "image/png": "[encoded data removed]",
      "text/plain": [
       "<Figure size 864x360 with 4 Axes>"
      ]
     },
     "metadata": {
      "needs_background": "light"
     },
     "output_type": "display_data"
    },
    {
     "name": "stdout",
     "output_type": "stream",
     "text": [
      "train\n",
      "              precision    recall  f1-score   support\n",
      "\n",
      "           0      1.000     1.000     1.000        72\n",
      "           1      1.000     1.000     1.000       154\n",
      "           2      0.987     0.993     0.990       152\n",
      "           3      0.994     0.994     0.994       155\n",
      "           4      1.000     1.000     1.000       151\n",
      "           5      0.993     0.986     0.990       146\n",
      "           6      0.987     1.000     0.993       152\n",
      "           7      1.000     0.987     0.993       152\n",
      "\n",
      "    accuracy                          0.995      1134\n",
      "   macro avg      0.995     0.995     0.995      1134\n",
      "weighted avg      0.995     0.995     0.995      1134\n",
      "\n"
     ]
    },
    {
     "data": {
      "image/png": "[encoded data removed]",
      "text/plain": [
       "<Figure size 864x360 with 4 Axes>"
      ]
     },
     "metadata": {
      "needs_background": "light"
     },
     "output_type": "display_data"
    },
    {
     "name": "stdout",
     "output_type": "stream",
     "text": [
      "validation\n",
      "              precision    recall  f1-score   support\n",
      "\n",
      "           0      0.800     0.667     0.727        12\n",
      "           1      0.684     0.929     0.788        14\n",
      "           2      0.600     0.562     0.581        16\n",
      "           3      0.500     0.462     0.480        13\n",
      "           4      0.769     0.588     0.667        17\n",
      "           5      0.750     0.682     0.714        22\n",
      "           6      0.667     0.750     0.706        16\n",
      "           7      0.684     0.812     0.743        16\n",
      "\n",
      "    accuracy                          0.683       126\n",
      "   macro avg      0.682     0.681     0.676       126\n",
      "weighted avg      0.686     0.683     0.679       126\n",
      "\n"
     ]
    },
    {
     "name": "stderr",
     "output_type": "stream",
     "text": [
      "/home/spongebob*/anaconda3/envs/irl_nik/lib/python3.9/site-packages/sklearn/metrics/_classification.py:1308: UndefinedMetricWarning: Precision and F-score are ill-defined and being set to 0.0 in labels with no predicted samples. Use `zero_division` parameter to control this behavior.\n",
      "  _warn_prf(average, modifier, msg_start, len(result))\n",
      "/home/spongebob*/anaconda3/envs/irl_nik/lib/python3.9/site-packages/sklearn/metrics/_classification.py:1308: UndefinedMetricWarning: Precision and F-score are ill-defined and being set to 0.0 in labels with no predicted samples. Use `zero_division` parameter to control this behavior.\n",
      "  _warn_prf(average, modifier, msg_start, len(result))\n",
      "/home/spongebob*/anaconda3/envs/irl_nik/lib/python3.9/site-packages/sklearn/metrics/_classification.py:1308: UndefinedMetricWarning: Precision and F-score are ill-defined and being set to 0.0 in labels with no predicted samples. Use `zero_division` parameter to control this behavior.\n",
      "  _warn_prf(average, modifier, msg_start, len(result))\n"
     ]
    },
    {
     "data": {
      "image/png": "[encoded data removed]",
      "text/plain": [
       "<Figure size 864x360 with 4 Axes>"
      ]
     },
     "metadata": {
      "needs_background": "light"
     },
     "output_type": "display_data"
    },
    {
     "name": "stdout",
     "output_type": "stream",
     "text": [
      "test\n",
      "              precision    recall  f1-score   support\n",
      "\n",
      "           0      0.000     0.000     0.000        12\n",
      "           1      0.800     0.333     0.471        24\n",
      "           2      0.229     0.333     0.271        24\n",
      "           3      0.375     0.250     0.300        24\n",
      "           4      0.542     0.542     0.542        24\n",
      "           5      0.619     0.542     0.578        24\n",
      "           6      0.231     0.375     0.286        24\n",
      "           7      0.571     0.833     0.678        24\n",
      "\n",
      "    accuracy                          0.428       180\n",
      "   macro avg      0.421     0.401     0.391       180\n",
      "weighted avg      0.449     0.428     0.417       180\n",
      "\n"
     ]
    }
   ],
   "source": [
    "from sklearn.metrics import confusion_matrix\n",
    "import seaborn as sns\n",
    "import numpy as np\n",
    "from sklearn import metrics\n",
    "\n",
    "def get_confusion_matrix(mdl, dataloader):\n",
    "    y_pred = []\n",
    "    y_true = []\n",
    "    correct = 0\n",
    "    total = 0\n",
    "    with torch.no_grad():\n",
    "        mdl.eval()\n",
    "        for src, tgt in dataloader:\n",
    "            src = src.to(DEVICE)\n",
    "            tgt = tgt.to(DEVICE)\n",
    "            # print(src.shape)\n",
    "            outputs = mdl(src)\n",
    "            # labels = labels.argmax(1)\n",
    "            predicted = outputs.argmax(1)\n",
    "            y_pred.append(predicted.cpu().numpy())\n",
    "            y_true.append(tgt.cpu().numpy())\n",
    "            \n",
    "\n",
    "            total += len(src)\n",
    "            correct += (tgt == predicted).sum().item()\n",
    "    # print(np.shape(y_true))\n",
    "    y_true, y_pred = np.concatenate(y_true), np.concatenate(y_pred)\n",
    "    \n",
    "    stats=metrics.classification_report(y_true, y_pred, digits=3)\n",
    "\n",
    "    # print(np.shape(y_true))\n",
    "    cm = confusion_matrix(y_true, y_pred)\n",
    "    return cm, stats\n",
    "\n",
    "def plot_cm(cm):\n",
    "    f, axs = plt.subplots(1,2, figsize=(12,5))\n",
    "    sns.heatmap(cm, annot=True, cmap='Blues', ax=axs[0])\n",
    "    sns.heatmap(cm/cm.sum(1).reshape(-1,1), annot=True, cmap='Blues', ax=axs[1])\n",
    "    plt.show()\n",
    "    \n",
    "\n",
    "train_iter = RAVDESSFeatureDataset(split='train',split_by=SPLIT_BY, root_dir=root_features, mean=MEAN, std= STD, feature_2d=False)#Multi30k(split='train', language_pair=(SRC_LANGUAGE, TGT_LANGUAGE))\n",
    "train_dataloader = DataLoader(train_iter, batch_size=1, shuffle=True)\n",
    "    \n",
    "train_cm, train_metrics = get_confusion_matrix(mlp,train_dataloader)\n",
    "train_acc = (train_cm*np.eye(len(train_cm))).sum()/np.sum(train_cm)\n",
    "\n",
    "# print(test_cm)\n",
    "true_pos = np.diag(train_cm)\n",
    "train_precision = np.sum(true_pos / np.sum(train_cm, axis=0))\n",
    "train_recall = np.sum(true_pos / np.sum(train_cm, axis=1))\n",
    "\n",
    "\n",
    "# print(train_cm*np.eye(len(train_cm)))\n",
    "val_iter = RAVDESSFeatureDataset(split='valid',split_by=SPLIT_BY, root_dir=root_features, mean=MEAN, std= STD, feature_2d=False)#Multi30k(split='train', language_pair=(SRC_LANGUAGE, TGT_LANGUAGE))\n",
    "val_dataloader = DataLoader(val_iter, batch_size=1, shuffle=True)\n",
    "    \n",
    "val_cm, val_metrics = get_confusion_matrix(mlp,val_dataloader)\n",
    "val_acc = (val_cm*np.eye(len(val_cm))).sum()/np.sum(val_cm)\n",
    "\n",
    "# print(test_cm)\n",
    "true_pos = np.diag(val_cm)\n",
    "val_precision = np.sum(true_pos / np.sum(val_cm, axis=0))\n",
    "val_recall = np.sum(true_pos / np.sum(val_cm, axis=1))\n",
    "\n",
    "\n",
    "plot_cm(train_cm)\n",
    "# print(f'Train accuracy: {train_acc}, precesion: {train_precision}, recall: {train_recall}')\n",
    "print(\"train\")\n",
    "print(train_metrics)\n",
    "\n",
    "plot_cm(val_cm)\n",
    "# print(f'Val accuracy: {val_acc}, precesion: {val_precision}, recall: {val_recall}')\n",
    "print(\"validation\")\n",
    "print(val_metrics)\n",
    "\n",
    "\n",
    "\n",
    "\n",
    "test_iter = RAVDESSFeatureDataset(split='test',split_by=SPLIT_BY, root_dir=root_features, mean=MEAN, std= STD, feature_2d=False)#Multi30k(split='train', language_pair=(SRC_LANGUAGE, TGT_LANGUAGE))\n",
    "test_dataloader = DataLoader(test_iter, batch_size=1, shuffle=True)\n",
    "    \n",
    "test_cm, test_metrics = get_confusion_matrix(mlp,test_dataloader)\n",
    "# test_acc = (test_cm*np.eye(len(test_cm))).sum()/np.sum(test_cm)\n",
    "\n",
    "# print(test_cm)\n",
    "# true_pos = np.diag(test_cm)\n",
    "# test_precision = np.sum(true_pos / np.sum(test_cm, axis=0))\n",
    "# test_recall = np.sum(true_pos / (np.sum(test_cm, axis=1))\n",
    "\n",
    "\n",
    "plot_cm(test_cm)\n",
    "# print(f'Test accuracy: {test_acc}, precesion: {test_precision}, recall: {test_recall}')\n",
    "print(\"test\")\n",
    "print(test_metrics)\n",
    "\n",
    "\n"
   ]
  },
  {
   "cell_type": "markdown",
   "id": "89fc4744-9974-4b76-8fdf-17ccd30784cc",
   "metadata": {},
   "source": [
    "## Train on the whole training pot"
   ]
  },
  {
   "cell_type": "code",
   "execution_count": 9,
   "id": "61e631fc-3ae8-4e82-9bac-557c024fc5ff",
   "metadata": {},
   "outputs": [
    {
     "data": {
      "text/html": [
       "Finishing last run (ID:2hdkn6rt) before initializing another..."
      ],
      "text/plain": [
       "<IPython.core.display.HTML object>"
      ]
     },
     "metadata": {},
     "output_type": "display_data"
    },
    {
     "data": {
      "text/html": [
       "<br/>Waiting for W&B process to finish, PID 1612626... <strong style=\"color:green\">(success).</strong>"
      ],
      "text/plain": [
       "<IPython.core.display.HTML object>"
      ]
     },
     "metadata": {},
     "output_type": "display_data"
    },
    {
     "data": {
      "application/vnd.jupyter.widget-view+json": {
       "model_id": "",
       "version_major": 2,
       "version_minor": 0
      },
      "text/plain": [
       "VBox(children=(Label(value=' 0.00MB of 0.00MB uploaded (0.00MB deduped)\\r'), FloatProgress(value=1.0, max=1.0)…"
      ]
     },
     "metadata": {},
     "output_type": "display_data"
    },
    {
     "data": {
      "text/html": [
       "<style>\n",
       "    table.wandb td:nth-child(1) { padding: 0 10px; text-align: right }\n",
       "    .wandb-row { display: flex; flex-direction: row; flex-wrap: wrap; width: 100% }\n",
       "    .wandb-col { display: flex; flex-direction: column; flex-basis: 100%; flex: 1; padding: 10px; }\n",
       "    </style>\n",
       "<div class=\"wandb-row\"><div class=\"wandb-col\">\n",
       "<h3>Run history:</h3><br/><table class=\"wandb\"><tr><td>epoch</td><td>▁▁▁▁▂▂▂▂▂▃▃▃▃▃▃▄▄▄▄▄▅▅▅▅▅▅▆▆▆▆▆▆▇▇▇▇▇███</td></tr><tr><td>train_loss</td><td>█▇▆▅▅▅▅▅▄▄▄▄▃▄▃▃▃▃▂▃▂▂▂▂▂▂▂▂▂▂▂▁▂▁▁▁▁▁▁▁</td></tr><tr><td>val_loss</td><td>█▇▆▆▅▅▄▄▄▄▃▃▃▃▃▂▂▂▂▂▂▂▂▂▂▂▂▁▂▂▁▁▁▁▁▁▁▂▂▁</td></tr></table><br/></div><div class=\"wandb-col\">\n",
       "<h3>Run summary:</h3><br/><table class=\"wandb\"><tr><td>epoch</td><td>60</td></tr><tr><td>train_loss</td><td>0.57772</td></tr><tr><td>val_loss</td><td>0.94001</td></tr></table>\n",
       "</div></div>\n",
       "Synced 6 W&B file(s), 0 media file(s), 0 artifact file(s) and 0 other file(s)\n",
       "<br/>Synced <strong style=\"color:#cdcd00\">distinctive-wildflower-333</strong>: <a href=\"https://wandb.ai/mohnik/statML/runs/2hdkn6rt\" target=\"_blank\">https://wandb.ai/mohnik/statML/runs/2hdkn6rt</a><br/>\n",
       "Find logs at: <code>./wandb/run-20211128_230014-2hdkn6rt/logs</code><br/>\n"
      ],
      "text/plain": [
       "<IPython.core.display.HTML object>"
      ]
     },
     "metadata": {},
     "output_type": "display_data"
    },
    {
     "data": {
      "text/html": [
       "Successfully finished last run (ID:2hdkn6rt). Initializing new run:<br/>"
      ],
      "text/plain": [
       "<IPython.core.display.HTML object>"
      ]
     },
     "metadata": {},
     "output_type": "display_data"
    },
    {
     "data": {
      "text/html": [
       "\n",
       "                    Syncing run <strong><a href=\"https://wandb.ai/mohnik/statML/runs/1msqfsbe\" target=\"_blank\">valiant-yogurt-334</a></strong> to <a href=\"https://wandb.ai/mohnik/statML\" target=\"_blank\">Weights & Biases</a> (<a href=\"https://docs.wandb.com/integrations/jupyter.html\" target=\"_blank\">docs</a>).<br/>\n",
       "\n",
       "                "
      ],
      "text/plain": [
       "<IPython.core.display.HTML object>"
      ]
     },
     "metadata": {},
     "output_type": "display_data"
    },
    {
     "name": "stdout",
     "output_type": "stream",
     "text": [
      "Epoch: 1, Train loss: 2.186, Epoch time = 0.980s\n",
      "Epoch: 2, Train loss: 1.914, Epoch time = 0.987s\n",
      "Epoch: 3, Train loss: 1.778, Epoch time = 1.014s\n",
      "Epoch: 4, Train loss: 1.684, Epoch time = 1.020s\n",
      "Epoch: 5, Train loss: 1.599, Epoch time = 1.030s\n",
      "Epoch: 6, Train loss: 1.529, Epoch time = 1.000s\n",
      "Epoch: 7, Train loss: 1.480, Epoch time = 1.035s\n",
      "Epoch: 8, Train loss: 1.429, Epoch time = 1.035s\n",
      "Epoch: 9, Train loss: 1.402, Epoch time = 1.008s\n",
      "Epoch: 10, Train loss: 1.380, Epoch time = 1.024s\n",
      "Epoch: 11, Train loss: 1.340, Epoch time = 0.985s\n",
      "Epoch: 12, Train loss: 1.330, Epoch time = 1.004s\n",
      "Epoch: 13, Train loss: 1.283, Epoch time = 1.021s\n",
      "Epoch: 14, Train loss: 1.270, Epoch time = 1.068s\n",
      "Epoch: 15, Train loss: 1.231, Epoch time = 1.078s\n",
      "Epoch: 16, Train loss: 1.175, Epoch time = 1.052s\n",
      "Epoch: 17, Train loss: 1.154, Epoch time = 1.076s\n",
      "Epoch: 18, Train loss: 1.166, Epoch time = 1.095s\n",
      "Epoch: 19, Train loss: 1.084, Epoch time = 1.082s\n",
      "Epoch: 20, Train loss: 1.109, Epoch time = 1.070s\n",
      "Epoch: 21, Train loss: 1.073, Epoch time = 1.011s\n",
      "Epoch: 22, Train loss: 1.035, Epoch time = 1.020s\n",
      "Epoch: 23, Train loss: 1.048, Epoch time = 1.004s\n",
      "Epoch: 24, Train loss: 1.031, Epoch time = 0.959s\n",
      "Epoch: 25, Train loss: 1.044, Epoch time = 0.974s\n",
      "Epoch: 26, Train loss: 0.959, Epoch time = 1.025s\n",
      "Epoch: 27, Train loss: 0.945, Epoch time = 1.000s\n",
      "Epoch: 28, Train loss: 0.934, Epoch time = 0.892s\n",
      "Epoch: 29, Train loss: 0.947, Epoch time = 0.920s\n",
      "Epoch: 30, Train loss: 0.913, Epoch time = 0.951s\n",
      "Epoch: 31, Train loss: 0.852, Epoch time = 0.883s\n",
      "Epoch: 32, Train loss: 0.835, Epoch time = 0.903s\n",
      "Epoch: 33, Train loss: 0.872, Epoch time = 0.904s\n",
      "Epoch: 34, Train loss: 0.828, Epoch time = 0.928s\n",
      "Epoch: 35, Train loss: 0.777, Epoch time = 0.923s\n",
      "Epoch: 36, Train loss: 0.812, Epoch time = 0.939s\n",
      "Epoch: 37, Train loss: 0.779, Epoch time = 0.977s\n",
      "Epoch: 38, Train loss: 0.771, Epoch time = 0.963s\n",
      "Epoch: 39, Train loss: 0.764, Epoch time = 0.995s\n",
      "Epoch: 40, Train loss: 0.761, Epoch time = 1.015s\n",
      "Epoch: 41, Train loss: 0.751, Epoch time = 1.056s\n",
      "Epoch: 42, Train loss: 0.727, Epoch time = 1.072s\n",
      "Epoch: 43, Train loss: 0.743, Epoch time = 1.151s\n",
      "Epoch: 44, Train loss: 0.737, Epoch time = 1.043s\n",
      "Epoch: 45, Train loss: 0.706, Epoch time = 1.031s\n",
      "Epoch: 46, Train loss: 0.748, Epoch time = 1.016s\n",
      "Epoch: 47, Train loss: 0.700, Epoch time = 0.978s\n",
      "Epoch: 48, Train loss: 0.670, Epoch time = 0.966s\n",
      "Epoch: 49, Train loss: 0.701, Epoch time = 0.965s\n",
      "Epoch: 50, Train loss: 0.694, Epoch time = 0.965s\n",
      "Epoch: 51, Train loss: 0.664, Epoch time = 0.944s\n",
      "Epoch: 52, Train loss: 0.604, Epoch time = 0.971s\n",
      "Epoch: 53, Train loss: 0.600, Epoch time = 0.992s\n",
      "Epoch: 54, Train loss: 0.584, Epoch time = 0.995s\n",
      "Epoch: 55, Train loss: 0.612, Epoch time = 0.983s\n",
      "Epoch: 56, Train loss: 0.579, Epoch time = 0.985s\n",
      "Epoch: 57, Train loss: 0.604, Epoch time = 0.971s\n",
      "Epoch: 58, Train loss: 0.578, Epoch time = 1.048s\n",
      "Epoch: 59, Train loss: 0.571, Epoch time = 1.044s\n",
      "Epoch: 60, Train loss: 0.562, Epoch time = 0.981s\n"
     ]
    }
   ],
   "source": [
    "for p in mlp.parameters():\n",
    "    if p.dim() > 1:\n",
    "        nn.init.kaiming_uniform_(p)\n",
    "        \n",
    "optimizer = torch.optim.Adam(mlp.parameters(), lr=lr, betas=betas, eps=eps)\n",
    "\n",
    "# start a new experiment\n",
    "wandb.init(project=\"statML\", entity=\"mohnik\")\n",
    "\n",
    "# capture a dictionary of hyperparameters with config\n",
    "wandb.config = {\"learning_rate\": lr, \"epochs\": NUM_EPOCHS, \"batch_size\": BATCH_SIZE}\n",
    "\n",
    "wandb.watch(mlp, loss_fn, log='all', log_freq=20)\n",
    "\n",
    "for epoch in range(1, NUM_EPOCHS+1):\n",
    "    start_time = timer()\n",
    "    train_loss = train_deploy_epoch(mlp, optimizer)\n",
    "    end_time = timer()\n",
    " \n",
    "    val_loss = evaluate(mlp)\n",
    "     # Where the magic happens\n",
    "    wandb.log({\"epoch\": epoch, \"train_loss\": train_loss})\n",
    "\n",
    "    # Optional\n",
    "    # wandb.watch(mlp)\n",
    "\n",
    "    print((f\"Epoch: {epoch}, Train loss: {train_loss:.3f}, \"f\"Epoch time = {(end_time - start_time):.3f}s\"))\n",
    "\n",
    "    \n",
    "    "
   ]
  },
  {
   "cell_type": "markdown",
   "id": "30f780be-63c6-47f6-a965-c69510db2b6c",
   "metadata": {},
   "source": [
    "## test performance"
   ]
  },
  {
   "cell_type": "code",
   "execution_count": 10,
   "id": "714dcef5-1926-44bb-baa4-dbb0e816694e",
   "metadata": {},
   "outputs": [
    {
     "data": {
      "image/png": "[encoded data removed]",
      "text/plain": [
       "<Figure size 864x360 with 4 Axes>"
      ]
     },
     "metadata": {
      "needs_background": "light"
     },
     "output_type": "display_data"
    },
    {
     "name": "stdout",
     "output_type": "stream",
     "text": [
      "test\n",
      "              precision    recall  f1-score   support\n",
      "\n",
      "           0      0.000     0.000     0.000        12\n",
      "           1      0.700     0.292     0.412        24\n",
      "           2      0.156     0.208     0.179        24\n",
      "           3      0.375     0.125     0.188        24\n",
      "           4      0.514     0.792     0.623        24\n",
      "           5      0.571     0.333     0.421        24\n",
      "           6      0.306     0.458     0.367        24\n",
      "           7      0.512     0.875     0.646        24\n",
      "\n",
      "    accuracy                          0.411       180\n",
      "   macro avg      0.392     0.385     0.354       180\n",
      "weighted avg      0.418     0.411     0.378       180\n",
      "\n"
     ]
    }
   ],
   "source": [
    "from sklearn.metrics import confusion_matrix\n",
    "import seaborn as sns\n",
    "import numpy as np\n",
    "from sklearn import metrics\n",
    "\n",
    "def get_confusion_matrix(mdl, dataloader):\n",
    "    y_pred = []\n",
    "    y_true = []\n",
    "    correct = 0\n",
    "    total = 0\n",
    "    with torch.no_grad():\n",
    "        mdl.eval()\n",
    "        for src, tgt in dataloader:\n",
    "            src = src.to(DEVICE)\n",
    "            tgt = tgt.to(DEVICE)\n",
    "            # print(src.shape)\n",
    "            outputs = mdl(src)\n",
    "            # labels = labels.argmax(1)\n",
    "            predicted = outputs.argmax(1)\n",
    "            y_pred.append(predicted.cpu().numpy())\n",
    "            y_true.append(tgt.cpu().numpy())\n",
    "            \n",
    "\n",
    "            total += len(src)\n",
    "            correct += (tgt == predicted).sum().item()\n",
    "    # print(np.shape(y_true))\n",
    "    y_true, y_pred = np.concatenate(y_true), np.concatenate(y_pred)\n",
    "    \n",
    "    stats=metrics.classification_report(y_true, y_pred, digits=3, zero_division=0)\n",
    "\n",
    "    # print(np.shape(y_true))\n",
    "    cm = confusion_matrix(y_true, y_pred)\n",
    "    return cm, stats\n",
    "\n",
    "def plot_cm(cm):\n",
    "    f, axs = plt.subplots(1,2, figsize=(12,5))\n",
    "    sns.heatmap(cm, annot=True, cmap='Blues', ax=axs[0])\n",
    "    sns.heatmap(cm/cm.sum(1).reshape(-1,1), annot=True, cmap='Blues', ax=axs[1])\n",
    "    plt.show()\n",
    "    \n",
    "\n",
    "\n",
    "test_iter = RAVDESSFeatureDataset(split='test',split_by=SPLIT_BY, root_dir=root_features, mean=MEAN, std= STD, feature_2d=False)#Multi30k(split='train', language_pair=(SRC_LANGUAGE, TGT_LANGUAGE))\n",
    "test_dataloader = DataLoader(test_iter, batch_size=1, shuffle=True)\n",
    "    \n",
    "test_cm, test_metrics = get_confusion_matrix(mlp,test_dataloader)\n",
    "# test_acc = (test_cm*np.eye(len(test_cm))).sum()/np.sum(test_cm)\n",
    "\n",
    "# print(test_cm)\n",
    "# true_pos = np.diag(test_cm)\n",
    "# test_precision = np.sum(true_pos / np.sum(test_cm, axis=0))\n",
    "# test_recall = np.sum(true_pos / (np.sum(test_cm, axis=1))\n",
    "\n",
    "\n",
    "plot_cm(test_cm)\n",
    "# print(f'Test accuracy: {test_acc}, precesion: {test_precision}, recall: {test_recall}')\n",
    "print(\"test\")\n",
    "print(test_metrics)\n",
    "\n",
    "\n"
   ]
  },
  {
   "cell_type": "markdown",
   "id": "a0850a8a-0c88-495a-a8f8-8cd6334f6ff8",
   "metadata": {},
   "source": [
    "## 1D CNN"
   ]
  },
  {
   "cell_type": "code",
   "execution_count": 11,
   "id": "394f2188-d10b-41c3-9deb-be0194407b17",
   "metadata": {},
   "outputs": [],
   "source": [
    "import torch\n",
    "import torch.nn as nn\n",
    "import torch.nn.functional as F\n",
    "\n",
    "\n",
    "class Ravdess_CNN_1D(nn.Module):\n",
    "    def __init__(self, input_size, tgt_class_cnt, num_of_layers=None):\n",
    "        super(Ravdess_CNN_1D, self).__init__()\n",
    "        # an affine operation: y = Wx + b\n",
    "        self.input_size=input_size\n",
    "        self.tgt_class_cnt=tgt_class_cnt\n",
    "        \n",
    "        # self.hidden_dim=int(self.input_size/2)\n",
    "\n",
    "        # 1 input image channel, 6 output channels, 5x5 square convolution\n",
    "        # kernel \n",
    "        self.conv1 = nn.Conv1d(1, 128, 3,stride=2, padding=0)\n",
    "        \n",
    "        # self.conv2 = nn.Conv1d(32, 32, 5,stride=1, padding=0)\n",
    "\n",
    "        self.conv3 = nn.Conv1d(128, 128, 3,stride=1, padding=0)\n",
    "\n",
    "        self.conv4 = nn.Conv1d(128, 256, 3,stride=1, padding=0)\n",
    "\n",
    "        self.conv5 = nn.Conv1d(256, 256, 3,stride=1, padding=0)\n",
    "\n",
    "        self.conv6 = nn.Conv1d(256, 256, 3, stride=1, padding=0)\n",
    "\n",
    "        # an affine operation: y = Wx + b\n",
    "        self.fc1 = nn.Linear(256, 128)  # 5*5 from image dimension\n",
    "        self.fc2 = nn.Linear(128, tgt_class_cnt)\n",
    "\n",
    "    def forward(self, x):\n",
    "        # Max pooling over a (2, 2) window\n",
    "        x = F.relu(self.conv1(x))\n",
    "        # x = F.max_pool1d(F.relu(self.conv2(x)), 2)\n",
    "        x = F.max_pool1d(F.relu(self.conv3(x)), 2)\n",
    "\n",
    "        x = F.relu(self.conv4(x))\n",
    "\n",
    "        x = F.relu(self.conv5(x))\n",
    "\n",
    "        x = F.adaptive_max_pool1d(F.relu(self.conv6(x)), 1)\n",
    "\n",
    "        # print(x.shape)\n",
    "        x = torch.flatten(x, 1) # flatten all dimensions except the batch dimension\n",
    "\n",
    "        x = F.relu(self.fc1(x))\n",
    "        x = self.fc2(x)\n",
    "\n",
    "        return x\n",
    "\n",
    "\n"
   ]
  },
  {
   "cell_type": "code",
   "execution_count": 12,
   "id": "5574e42b-5f3f-47a8-b3eb-e1c7c6922f5c",
   "metadata": {},
   "outputs": [
    {
     "name": "stdout",
     "output_type": "stream",
     "text": [
      "=================================================================\n",
      "Layer (type:depth-idx)                   Param #\n",
      "=================================================================\n",
      "├─Conv1d: 1-1                            512\n",
      "├─Conv1d: 1-2                            49,280\n",
      "├─Conv1d: 1-3                            98,560\n",
      "├─Conv1d: 1-4                            196,864\n",
      "├─Conv1d: 1-5                            196,864\n",
      "├─Linear: 1-6                            32,896\n",
      "├─Linear: 1-7                            1,032\n",
      "=================================================================\n",
      "Total params: 576,008\n",
      "Trainable params: 576,008\n",
      "Non-trainable params: 0\n",
      "=================================================================\n",
      "Ravdess_CNN_1D(\n",
      "  (conv1): Conv1d(1, 128, kernel_size=(3,), stride=(2,))\n",
      "  (conv3): Conv1d(128, 128, kernel_size=(3,), stride=(1,))\n",
      "  (conv4): Conv1d(128, 256, kernel_size=(3,), stride=(1,))\n",
      "  (conv5): Conv1d(256, 256, kernel_size=(3,), stride=(1,))\n",
      "  (conv6): Conv1d(256, 256, kernel_size=(3,), stride=(1,))\n",
      "  (fc1): Linear(in_features=256, out_features=128, bias=True)\n",
      "  (fc2): Linear(in_features=128, out_features=8, bias=True)\n",
      ")\n"
     ]
    }
   ],
   "source": [
    "from torchsummary import summary\n",
    "\n",
    "INPUT_SIZE=INPUT_SIZE=imput_dim[0]*imput_dim[1]\n",
    "TGT_CLASS_CNT=8\n",
    "BATCH_SIZE = 64 #128\n",
    "\n",
    "lr=0.0001\n",
    "betas=(0.9, 0.98)\n",
    "eps=1e-9\n",
    "\n",
    "cnn_1d = Ravdess_CNN_1D(input_size=INPUT_SIZE, tgt_class_cnt=TGT_CLASS_CNT)\n",
    "# print(mlp)\n",
    "# params = list(mlp.parameters())\n",
    "# print(len(params))\n",
    "# print(params[0].size())  # conv1's .weight\n",
    "\n",
    "summary(cnn_1d)\n",
    "\n",
    "for p in cnn_1d.parameters():\n",
    "    if p.dim() > 1:\n",
    "        nn.init.kaiming_uniform_(p)\n",
    "\n",
    "cnn_1d = cnn_1d.to(DEVICE)\n",
    "print(cnn_1d)\n",
    "# loss_fn = torch.nn.KLDivLoss(reduction='batchmean')\n",
    "loss_fn = torch.nn.CrossEntropyLoss()\n",
    "\n",
    "optimizer = torch.optim.Adam(cnn_1d.parameters(), lr=lr, betas=betas, eps=eps)"
   ]
  },
  {
   "cell_type": "code",
   "execution_count": 13,
   "id": "d1991052-fc89-46fe-a842-d4f9c4603af0",
   "metadata": {},
   "outputs": [
    {
     "data": {
      "text/html": [
       "Finishing last run (ID:1msqfsbe) before initializing another..."
      ],
      "text/plain": [
       "<IPython.core.display.HTML object>"
      ]
     },
     "metadata": {},
     "output_type": "display_data"
    },
    {
     "data": {
      "text/html": [
       "<br/>Waiting for W&B process to finish, PID 1612680... <strong style=\"color:green\">(success).</strong>"
      ],
      "text/plain": [
       "<IPython.core.display.HTML object>"
      ]
     },
     "metadata": {},
     "output_type": "display_data"
    },
    {
     "data": {
      "application/vnd.jupyter.widget-view+json": {
       "model_id": "",
       "version_major": 2,
       "version_minor": 0
      },
      "text/plain": [
       "VBox(children=(Label(value=' 0.00MB of 0.00MB uploaded (0.00MB deduped)\\r'), FloatProgress(value=1.0, max=1.0)…"
      ]
     },
     "metadata": {},
     "output_type": "display_data"
    },
    {
     "data": {
      "text/html": [
       "<style>\n",
       "    table.wandb td:nth-child(1) { padding: 0 10px; text-align: right }\n",
       "    .wandb-row { display: flex; flex-direction: row; flex-wrap: wrap; width: 100% }\n",
       "    .wandb-col { display: flex; flex-direction: column; flex-basis: 100%; flex: 1; padding: 10px; }\n",
       "    </style>\n",
       "<div class=\"wandb-row\"><div class=\"wandb-col\">\n",
       "<h3>Run history:</h3><br/><table class=\"wandb\"><tr><td>epoch</td><td>▁▁▁▁▂▂▂▂▂▃▃▃▃▃▃▄▄▄▄▄▅▅▅▅▅▅▆▆▆▆▆▆▇▇▇▇▇███</td></tr><tr><td>train_loss</td><td>█▇▆▅▅▅▅▄▄▄▄▄▃▃▃▃▃▃▃▃▂▂▂▂▂▂▂▂▂▂▂▂▂▂▁▁▁▁▁▁</td></tr></table><br/></div><div class=\"wandb-col\">\n",
       "<h3>Run summary:</h3><br/><table class=\"wandb\"><tr><td>epoch</td><td>60</td></tr><tr><td>train_loss</td><td>0.56164</td></tr></table>\n",
       "</div></div>\n",
       "Synced 6 W&B file(s), 0 media file(s), 0 artifact file(s) and 0 other file(s)\n",
       "<br/>Synced <strong style=\"color:#cdcd00\">valiant-yogurt-334</strong>: <a href=\"https://wandb.ai/mohnik/statML/runs/1msqfsbe\" target=\"_blank\">https://wandb.ai/mohnik/statML/runs/1msqfsbe</a><br/>\n",
       "Find logs at: <code>./wandb/run-20211128_230107-1msqfsbe/logs</code><br/>\n"
      ],
      "text/plain": [
       "<IPython.core.display.HTML object>"
      ]
     },
     "metadata": {},
     "output_type": "display_data"
    },
    {
     "data": {
      "text/html": [
       "Successfully finished last run (ID:1msqfsbe). Initializing new run:<br/>"
      ],
      "text/plain": [
       "<IPython.core.display.HTML object>"
      ]
     },
     "metadata": {},
     "output_type": "display_data"
    },
    {
     "data": {
      "text/html": [
       "\n",
       "                    Syncing run <strong><a href=\"https://wandb.ai/mohnik/statML/runs/1po5qcl7\" target=\"_blank\">vague-resonance-335</a></strong> to <a href=\"https://wandb.ai/mohnik/statML\" target=\"_blank\">Weights & Biases</a> (<a href=\"https://docs.wandb.com/integrations/jupyter.html\" target=\"_blank\">docs</a>).<br/>\n",
       "\n",
       "                "
      ],
      "text/plain": [
       "<IPython.core.display.HTML object>"
      ]
     },
     "metadata": {},
     "output_type": "display_data"
    },
    {
     "name": "stdout",
     "output_type": "stream",
     "text": [
      "Epoch: 1, Train loss: 8.705, Val loss: 4.004, Epoch time = 0.590s\n",
      "Epoch: 2, Train loss: 2.969, Val loss: 2.631, Epoch time = 0.578s\n",
      "Epoch: 3, Train loss: 2.046, Val loss: 1.967, Epoch time = 0.588s\n",
      "Epoch: 4, Train loss: 1.597, Val loss: 1.902, Epoch time = 0.586s\n",
      "Epoch: 5, Train loss: 1.348, Val loss: 1.789, Epoch time = 0.589s\n",
      "Epoch: 6, Train loss: 1.186, Val loss: 1.621, Epoch time = 0.595s\n",
      "Epoch: 7, Train loss: 1.147, Val loss: 1.521, Epoch time = 0.583s\n",
      "Epoch: 8, Train loss: 1.031, Val loss: 1.674, Epoch time = 0.567s\n",
      "Epoch: 9, Train loss: 0.904, Val loss: 1.454, Epoch time = 0.567s\n",
      "Epoch: 10, Train loss: 0.791, Val loss: 1.466, Epoch time = 0.552s\n",
      "Epoch: 11, Train loss: 0.739, Val loss: 1.326, Epoch time = 0.561s\n",
      "Epoch: 12, Train loss: 0.646, Val loss: 1.325, Epoch time = 0.559s\n",
      "Epoch: 13, Train loss: 0.582, Val loss: 1.435, Epoch time = 0.565s\n",
      "Epoch: 14, Train loss: 0.591, Val loss: 1.352, Epoch time = 0.582s\n",
      "Epoch: 15, Train loss: 0.492, Val loss: 1.317, Epoch time = 0.573s\n",
      "Epoch: 16, Train loss: 0.456, Val loss: 1.425, Epoch time = 0.598s\n",
      "Epoch: 17, Train loss: 0.441, Val loss: 1.220, Epoch time = 0.573s\n",
      "Epoch: 18, Train loss: 0.381, Val loss: 1.346, Epoch time = 0.552s\n",
      "Epoch: 19, Train loss: 0.404, Val loss: 1.411, Epoch time = 0.542s\n",
      "Epoch: 20, Train loss: 0.337, Val loss: 1.195, Epoch time = 0.540s\n",
      "Epoch: 21, Train loss: 0.301, Val loss: 1.257, Epoch time = 0.545s\n",
      "Epoch: 22, Train loss: 0.327, Val loss: 1.261, Epoch time = 0.572s\n",
      "Epoch: 23, Train loss: 0.334, Val loss: 1.196, Epoch time = 0.570s\n",
      "Epoch: 24, Train loss: 0.279, Val loss: 1.203, Epoch time = 0.567s\n",
      "Epoch: 25, Train loss: 0.201, Val loss: 1.055, Epoch time = 0.552s\n",
      "Epoch: 26, Train loss: 0.194, Val loss: 1.195, Epoch time = 0.584s\n",
      "Epoch: 27, Train loss: 0.189, Val loss: 1.186, Epoch time = 0.573s\n",
      "Epoch: 28, Train loss: 0.152, Val loss: 1.051, Epoch time = 0.541s\n",
      "Epoch: 29, Train loss: 0.122, Val loss: 1.096, Epoch time = 0.556s\n",
      "Epoch: 30, Train loss: 0.123, Val loss: 1.145, Epoch time = 0.567s\n",
      "Epoch: 31, Train loss: 0.120, Val loss: 1.130, Epoch time = 0.520s\n",
      "Epoch: 32, Train loss: 0.117, Val loss: 1.135, Epoch time = 0.542s\n",
      "Epoch: 33, Train loss: 0.150, Val loss: 1.256, Epoch time = 0.557s\n",
      "Epoch: 34, Train loss: 0.137, Val loss: 1.016, Epoch time = 0.563s\n",
      "Epoch: 35, Train loss: 0.092, Val loss: 1.061, Epoch time = 0.556s\n",
      "Epoch: 36, Train loss: 0.070, Val loss: 0.974, Epoch time = 0.542s\n",
      "Epoch: 37, Train loss: 0.054, Val loss: 1.059, Epoch time = 0.552s\n",
      "Epoch: 38, Train loss: 0.057, Val loss: 0.992, Epoch time = 0.559s\n",
      "Epoch: 39, Train loss: 0.046, Val loss: 0.996, Epoch time = 0.559s\n",
      "Epoch: 40, Train loss: 0.045, Val loss: 1.047, Epoch time = 0.602s\n",
      "Epoch: 41, Train loss: 0.041, Val loss: 1.076, Epoch time = 0.586s\n",
      "Epoch: 42, Train loss: 0.037, Val loss: 1.032, Epoch time = 0.584s\n",
      "Epoch: 43, Train loss: 0.043, Val loss: 1.095, Epoch time = 0.596s\n",
      "Epoch: 44, Train loss: 0.095, Val loss: 1.192, Epoch time = 0.589s\n",
      "Epoch: 45, Train loss: 0.069, Val loss: 1.155, Epoch time = 0.599s\n",
      "Epoch: 46, Train loss: 0.058, Val loss: 1.430, Epoch time = 0.589s\n",
      "Epoch: 47, Train loss: 0.043, Val loss: 1.005, Epoch time = 0.588s\n",
      "Epoch: 48, Train loss: 0.021, Val loss: 0.971, Epoch time = 0.585s\n",
      "Epoch: 49, Train loss: 0.015, Val loss: 0.958, Epoch time = 0.689s\n",
      "Epoch: 50, Train loss: 0.015, Val loss: 0.999, Epoch time = 0.588s\n",
      "Epoch: 51, Train loss: 0.014, Val loss: 0.972, Epoch time = 0.577s\n",
      "Epoch: 52, Train loss: 0.011, Val loss: 1.007, Epoch time = 0.582s\n",
      "Epoch: 53, Train loss: 0.011, Val loss: 0.967, Epoch time = 0.591s\n",
      "Epoch: 54, Train loss: 0.009, Val loss: 0.990, Epoch time = 0.583s\n",
      "Epoch: 55, Train loss: 0.009, Val loss: 1.059, Epoch time = 0.591s\n",
      "Epoch: 56, Train loss: 0.015, Val loss: 1.232, Epoch time = 0.591s\n",
      "Epoch: 57, Train loss: 0.025, Val loss: 1.204, Epoch time = 0.587s\n",
      "Epoch: 58, Train loss: 0.033, Val loss: 1.108, Epoch time = 0.595s\n",
      "Epoch: 59, Train loss: 0.056, Val loss: 1.343, Epoch time = 0.597s\n",
      "Epoch: 60, Train loss: 0.056, Val loss: 1.136, Epoch time = 0.593s\n"
     ]
    }
   ],
   "source": [
    "from timeit import default_timer as timer\n",
    "import wandb\n",
    "\n",
    "\n",
    "NUM_EPOCHS = 60\n",
    "NORM=None\n",
    "\n",
    "if NORM=='channel':\n",
    "    MEAN=channel_mean\n",
    "    STD=channel_std\n",
    "elif NORM=='global':\n",
    "    MEAN=global_mean\n",
    "    STD=global_std\n",
    "else:\n",
    "    MEAN=0\n",
    "    STD=1\n",
    "\n",
    "# start a new experiment\n",
    "wandb.init(project=\"statML\", entity=\"mohnik\")\n",
    "\n",
    "# capture a dictionary of hyperparameters with config\n",
    "wandb.config = {\"learning_rate\": 0.0001, \"epochs\": NUM_EPOCHS, \"batch_size\": BATCH_SIZE}\n",
    "\n",
    "wandb.watch(cnn_1d, loss_fn, log='all', log_freq=20)\n",
    "\n",
    "for epoch in range(1, NUM_EPOCHS+1):\n",
    "    start_time = timer()\n",
    "    train_loss = train_epoch(cnn_1d, optimizer)\n",
    "    end_time = timer()\n",
    "    # if epoch%10==0:\n",
    "    #     PATH=f\"checkpoints/checkpoint_{epoch}.pt\"\n",
    "    #     torch.save({\n",
    "    #             'epoch': epoch,\n",
    "    #             'model_state_dict': transformer.state_dict(),\n",
    "    #             'optimizer_state_dict': optimizer.state_dict(),\n",
    "    #             'loss': train_loss,\n",
    "    #             }, PATH)\n",
    "    val_loss = evaluate(cnn_1d)\n",
    "     # Where the magic happens\n",
    "    wandb.log({\"epoch\": epoch, \"train_loss\": [train_loss, val_loss], \"val_loss\": val_loss})\n",
    "    \n",
    "\n",
    "    # Optional\n",
    "    # wandb.watch(mlp)\n",
    "\n",
    "    print((f\"Epoch: {epoch}, Train loss: {train_loss:.3f}, Val loss: {val_loss:.3f}, \"f\"Epoch time = {(end_time - start_time):.3f}s\"))\n",
    "\n",
    "    \n",
    "    \n",
    "\n"
   ]
  },
  {
   "cell_type": "markdown",
   "id": "477b88ab-b43f-461e-87a0-969ca10580cc",
   "metadata": {},
   "source": [
    "## train validation performance"
   ]
  },
  {
   "cell_type": "code",
   "execution_count": 14,
   "id": "431dec3c-fee0-431e-9509-5a3ba969d90c",
   "metadata": {},
   "outputs": [
    {
     "data": {
      "image/png": "[encoded data removed]",
      "text/plain": [
       "<Figure size 864x360 with 4 Axes>"
      ]
     },
     "metadata": {
      "needs_background": "light"
     },
     "output_type": "display_data"
    },
    {
     "name": "stdout",
     "output_type": "stream",
     "text": [
      "train\n",
      "              precision    recall  f1-score   support\n",
      "\n",
      "           0      1.000     1.000     1.000        72\n",
      "           1      1.000     1.000     1.000       154\n",
      "           2      1.000     1.000     1.000       152\n",
      "           3      1.000     1.000     1.000       155\n",
      "           4      1.000     1.000     1.000       151\n",
      "           5      1.000     1.000     1.000       146\n",
      "           6      1.000     1.000     1.000       152\n",
      "           7      1.000     1.000     1.000       152\n",
      "\n",
      "    accuracy                          1.000      1134\n",
      "   macro avg      1.000     1.000     1.000      1134\n",
      "weighted avg      1.000     1.000     1.000      1134\n",
      "\n"
     ]
    },
    {
     "data": {
      "image/png": "[encoded data removed]",
      "text/plain": [
       "<Figure size 864x360 with 4 Axes>"
      ]
     },
     "metadata": {
      "needs_background": "light"
     },
     "output_type": "display_data"
    },
    {
     "name": "stdout",
     "output_type": "stream",
     "text": [
      "validation\n",
      "              precision    recall  f1-score   support\n",
      "\n",
      "           0      0.524     0.917     0.667        12\n",
      "           1      0.800     0.857     0.828        14\n",
      "           2      0.583     0.438     0.500        16\n",
      "           3      0.667     0.462     0.545        13\n",
      "           4      0.696     0.941     0.800        17\n",
      "           5      0.636     0.636     0.636        22\n",
      "           6      0.714     0.625     0.667        16\n",
      "           7      0.700     0.438     0.538        16\n",
      "\n",
      "    accuracy                          0.659       126\n",
      "   macro avg      0.665     0.664     0.648       126\n",
      "weighted avg      0.666     0.659     0.647       126\n",
      "\n"
     ]
    },
    {
     "data": {
      "image/png": "[encoded data removed]",
      "text/plain": [
       "<Figure size 864x360 with 4 Axes>"
      ]
     },
     "metadata": {
      "needs_background": "light"
     },
     "output_type": "display_data"
    },
    {
     "name": "stdout",
     "output_type": "stream",
     "text": [
      "test\n",
      "              precision    recall  f1-score   support\n",
      "\n",
      "           0      0.273     0.250     0.261        12\n",
      "           1      0.900     0.375     0.529        24\n",
      "           2      0.167     0.125     0.143        24\n",
      "           3      0.462     0.500     0.480        24\n",
      "           4      0.308     0.500     0.381        24\n",
      "           5      0.447     0.708     0.548        24\n",
      "           6      0.238     0.208     0.222        24\n",
      "           7      0.765     0.542     0.634        24\n",
      "\n",
      "    accuracy                          0.411       180\n",
      "   macro avg      0.445     0.401     0.400       180\n",
      "weighted avg      0.456     0.411     0.409       180\n",
      "\n"
     ]
    }
   ],
   "source": [
    "from sklearn.metrics import confusion_matrix\n",
    "import seaborn as sns\n",
    "import numpy as np\n",
    "from sklearn import metrics\n",
    "\n",
    "def get_confusion_matrix(mdl, dataloader):\n",
    "    y_pred = []\n",
    "    y_true = []\n",
    "    correct = 0\n",
    "    total = 0\n",
    "    with torch.no_grad():\n",
    "        mdl.eval()\n",
    "        for src, tgt in dataloader:\n",
    "            src = src.to(DEVICE)\n",
    "            tgt = tgt.to(DEVICE)\n",
    "            # print(src.shape)\n",
    "            outputs = mdl(src)\n",
    "            # labels = labels.argmax(1)\n",
    "            predicted = outputs.argmax(1)\n",
    "            y_pred.append(predicted.cpu().numpy())\n",
    "            y_true.append(tgt.cpu().numpy())\n",
    "            \n",
    "\n",
    "            total += len(src)\n",
    "            correct += (tgt == predicted).sum().item()\n",
    "    # print(np.shape(y_true))\n",
    "    y_true, y_pred = np.concatenate(y_true), np.concatenate(y_pred)\n",
    "    \n",
    "    stats=metrics.classification_report(y_true, y_pred, digits=3)\n",
    "\n",
    "    # print(np.shape(y_true))\n",
    "    cm = confusion_matrix(y_true, y_pred)\n",
    "    return cm, stats\n",
    "\n",
    "def plot_cm(cm):\n",
    "    f, axs = plt.subplots(1,2, figsize=(12,5))\n",
    "    sns.heatmap(cm, annot=True, cmap='Blues', ax=axs[0])\n",
    "    sns.heatmap(cm/cm.sum(1).reshape(-1,1), annot=True, cmap='Blues', ax=axs[1])\n",
    "    plt.show()\n",
    "    \n",
    "\n",
    "train_iter = RAVDESSFeatureDataset(split='train',split_by=SPLIT_BY, root_dir=root_features, mean=MEAN, std= STD, feature_2d=False)#Multi30k(split='train', language_pair=(SRC_LANGUAGE, TGT_LANGUAGE))\n",
    "train_dataloader = DataLoader(train_iter, batch_size=1, shuffle=True)\n",
    "    \n",
    "train_cm, train_metrics = get_confusion_matrix(cnn_1d,train_dataloader)\n",
    "train_acc = (train_cm*np.eye(len(train_cm))).sum()/np.sum(train_cm)\n",
    "\n",
    "# print(test_cm)\n",
    "true_pos = np.diag(train_cm)\n",
    "train_precision = np.sum(true_pos / np.sum(train_cm, axis=0))\n",
    "train_recall = np.sum(true_pos / np.sum(train_cm, axis=1))\n",
    "\n",
    "\n",
    "# print(train_cm*np.eye(len(train_cm)))\n",
    "val_iter = RAVDESSFeatureDataset(split='valid',split_by=SPLIT_BY, root_dir=root_features, mean=MEAN, std= STD, feature_2d=False)#Multi30k(split='train', language_pair=(SRC_LANGUAGE, TGT_LANGUAGE))\n",
    "val_dataloader = DataLoader(val_iter, batch_size=1, shuffle=True)\n",
    "    \n",
    "val_cm, val_metrics = get_confusion_matrix(cnn_1d,val_dataloader)\n",
    "val_acc = (val_cm*np.eye(len(val_cm))).sum()/np.sum(val_cm)\n",
    "\n",
    "# print(test_cm)\n",
    "true_pos = np.diag(val_cm)\n",
    "val_precision = np.sum(true_pos / np.sum(val_cm, axis=0))\n",
    "val_recall = np.sum(true_pos / np.sum(val_cm, axis=1))\n",
    "\n",
    "plot_cm(train_cm)\n",
    "# print(f'Train accuracy: {train_acc}, precesion: {train_precision}, recall: {train_recall}')\n",
    "print(\"train\")\n",
    "print(train_metrics)\n",
    "\n",
    "plot_cm(val_cm)\n",
    "# print(f'Val accuracy: {val_acc}, precesion: {val_precision}, recall: {val_recall}')\n",
    "print(\"validation\")\n",
    "print(val_metrics)\n",
    "\n",
    "\n",
    "test_iter = RAVDESSFeatureDataset(split='test',split_by=SPLIT_BY, root_dir=root_features, mean=MEAN, std= STD, feature_2d=False)#Multi30k(split='train', language_pair=(SRC_LANGUAGE, TGT_LANGUAGE))\n",
    "test_dataloader = DataLoader(test_iter, batch_size=1, shuffle=True)\n",
    "    \n",
    "test_cm, test_metrics = get_confusion_matrix(cnn_1d,test_dataloader)\n",
    "# test_acc = (test_cm*np.eye(len(test_cm))).sum()/np.sum(test_cm)\n",
    "\n",
    "# # print(test_cm)\n",
    "# true_pos = np.diag(test_cm)\n",
    "# test_precision = np.sum(true_pos / np.sum(test_cm, axis=0))\n",
    "# test_recall = np.sum(true_pos / np.sum(test_cm, axis=1))\n",
    "\n",
    "\n",
    "\n",
    "\n",
    "plot_cm(test_cm)\n",
    "# print(f'Test accuracy: {test_acc}, precesion: {test_precision}, recall: {test_recall}')\n",
    "print(\"test\")\n",
    "print(test_metrics)\n",
    "\n",
    "\n"
   ]
  },
  {
   "cell_type": "markdown",
   "id": "fe7ed7fa-6c53-4521-94db-7011a90f3dd7",
   "metadata": {},
   "source": [
    "## Train on the whole training pot"
   ]
  },
  {
   "cell_type": "code",
   "execution_count": 15,
   "id": "540e3802-a902-4ec8-88eb-50cd5e4bdf3a",
   "metadata": {},
   "outputs": [
    {
     "data": {
      "text/html": [
       "Finishing last run (ID:1po5qcl7) before initializing another..."
      ],
      "text/plain": [
       "<IPython.core.display.HTML object>"
      ]
     },
     "metadata": {},
     "output_type": "display_data"
    },
    {
     "data": {
      "text/html": [
       "<br/>Waiting for W&B process to finish, PID 1612722... <strong style=\"color:green\">(success).</strong>"
      ],
      "text/plain": [
       "<IPython.core.display.HTML object>"
      ]
     },
     "metadata": {},
     "output_type": "display_data"
    },
    {
     "data": {
      "application/vnd.jupyter.widget-view+json": {
       "model_id": "",
       "version_major": 2,
       "version_minor": 0
      },
      "text/plain": [
       "VBox(children=(Label(value=' 0.00MB of 0.00MB uploaded (0.00MB deduped)\\r'), FloatProgress(value=1.0, max=1.0)…"
      ]
     },
     "metadata": {},
     "output_type": "display_data"
    },
    {
     "data": {
      "text/html": [
       "<style>\n",
       "    table.wandb td:nth-child(1) { padding: 0 10px; text-align: right }\n",
       "    .wandb-row { display: flex; flex-direction: row; flex-wrap: wrap; width: 100% }\n",
       "    .wandb-col { display: flex; flex-direction: column; flex-basis: 100%; flex: 1; padding: 10px; }\n",
       "    </style>\n",
       "<div class=\"wandb-row\"><div class=\"wandb-col\">\n",
       "<h3>Run history:</h3><br/><table class=\"wandb\"><tr><td>epoch</td><td>▁▁▁▁▂▂▂▂▂▃▃▃▃▃▃▄▄▄▄▄▅▅▅▅▅▅▆▆▆▆▆▆▇▇▇▇▇███</td></tr><tr><td>val_loss</td><td>█▅▃▃▂▃▂▂▂▂▂▂▂▂▂▂▁▂▁▁▁▁▁▁▁▁▁▁▁▂▂▁▁▁▁▁▁▂▁▁</td></tr></table><br/></div><div class=\"wandb-col\">\n",
       "<h3>Run summary:</h3><br/><table class=\"wandb\"><tr><td>epoch</td><td>60</td></tr><tr><td>val_loss</td><td>1.13625</td></tr></table>\n",
       "</div></div>\n",
       "Synced 6 W&B file(s), 0 media file(s), 0 artifact file(s) and 0 other file(s)\n",
       "<br/>Synced <strong style=\"color:#cdcd00\">vague-resonance-335</strong>: <a href=\"https://wandb.ai/mohnik/statML/runs/1po5qcl7\" target=\"_blank\">https://wandb.ai/mohnik/statML/runs/1po5qcl7</a><br/>\n",
       "Find logs at: <code>./wandb/run-20211128_230217-1po5qcl7/logs</code><br/>\n"
      ],
      "text/plain": [
       "<IPython.core.display.HTML object>"
      ]
     },
     "metadata": {},
     "output_type": "display_data"
    },
    {
     "data": {
      "text/html": [
       "Successfully finished last run (ID:1po5qcl7). Initializing new run:<br/>"
      ],
      "text/plain": [
       "<IPython.core.display.HTML object>"
      ]
     },
     "metadata": {},
     "output_type": "display_data"
    },
    {
     "data": {
      "text/html": [
       "\n",
       "                    Syncing run <strong><a href=\"https://wandb.ai/mohnik/statML/runs/rjumm2mj\" target=\"_blank\">resilient-plant-336</a></strong> to <a href=\"https://wandb.ai/mohnik/statML\" target=\"_blank\">Weights & Biases</a> (<a href=\"https://docs.wandb.com/integrations/jupyter.html\" target=\"_blank\">docs</a>).<br/>\n",
       "\n",
       "                "
      ],
      "text/plain": [
       "<IPython.core.display.HTML object>"
      ]
     },
     "metadata": {},
     "output_type": "display_data"
    },
    {
     "name": "stdout",
     "output_type": "stream",
     "text": [
      "Epoch: 1, Train loss: 9.970, Epoch time = 0.696s\n",
      "Epoch: 2, Train loss: 2.650, Epoch time = 0.679s\n",
      "Epoch: 3, Train loss: 1.902, Epoch time = 0.679s\n",
      "Epoch: 4, Train loss: 1.512, Epoch time = 0.675s\n",
      "Epoch: 5, Train loss: 1.353, Epoch time = 0.688s\n",
      "Epoch: 6, Train loss: 1.328, Epoch time = 0.678s\n",
      "Epoch: 7, Train loss: 1.112, Epoch time = 0.668s\n",
      "Epoch: 8, Train loss: 0.978, Epoch time = 0.626s\n",
      "Epoch: 9, Train loss: 0.896, Epoch time = 0.643s\n",
      "Epoch: 10, Train loss: 0.777, Epoch time = 0.640s\n",
      "Epoch: 11, Train loss: 0.725, Epoch time = 0.624s\n",
      "Epoch: 12, Train loss: 0.762, Epoch time = 0.609s\n",
      "Epoch: 13, Train loss: 0.714, Epoch time = 0.628s\n",
      "Epoch: 14, Train loss: 0.593, Epoch time = 0.656s\n",
      "Epoch: 15, Train loss: 0.506, Epoch time = 0.637s\n",
      "Epoch: 16, Train loss: 0.434, Epoch time = 0.639s\n",
      "Epoch: 17, Train loss: 0.476, Epoch time = 0.653s\n",
      "Epoch: 18, Train loss: 0.418, Epoch time = 0.649s\n",
      "Epoch: 19, Train loss: 0.372, Epoch time = 0.639s\n",
      "Epoch: 20, Train loss: 0.312, Epoch time = 0.638s\n",
      "Epoch: 21, Train loss: 0.302, Epoch time = 0.617s\n",
      "Epoch: 22, Train loss: 0.256, Epoch time = 0.611s\n",
      "Epoch: 23, Train loss: 0.230, Epoch time = 0.632s\n",
      "Epoch: 24, Train loss: 0.243, Epoch time = 0.605s\n",
      "Epoch: 25, Train loss: 0.206, Epoch time = 0.625s\n",
      "Epoch: 26, Train loss: 0.186, Epoch time = 0.600s\n",
      "Epoch: 27, Train loss: 0.134, Epoch time = 0.633s\n",
      "Epoch: 28, Train loss: 0.119, Epoch time = 0.635s\n",
      "Epoch: 29, Train loss: 0.124, Epoch time = 0.627s\n",
      "Epoch: 30, Train loss: 0.105, Epoch time = 0.642s\n",
      "Epoch: 31, Train loss: 0.125, Epoch time = 0.639s\n",
      "Epoch: 32, Train loss: 0.165, Epoch time = 0.651s\n",
      "Epoch: 33, Train loss: 0.094, Epoch time = 0.637s\n",
      "Epoch: 34, Train loss: 0.069, Epoch time = 0.626s\n",
      "Epoch: 35, Train loss: 0.065, Epoch time = 0.677s\n",
      "Epoch: 36, Train loss: 0.070, Epoch time = 0.676s\n",
      "Epoch: 37, Train loss: 0.100, Epoch time = 0.678s\n",
      "Epoch: 38, Train loss: 0.115, Epoch time = 0.685s\n",
      "Epoch: 39, Train loss: 0.066, Epoch time = 0.671s\n",
      "Epoch: 40, Train loss: 0.037, Epoch time = 0.660s\n",
      "Epoch: 41, Train loss: 0.031, Epoch time = 0.650s\n",
      "Epoch: 42, Train loss: 0.029, Epoch time = 0.670s\n",
      "Epoch: 43, Train loss: 0.026, Epoch time = 0.680s\n",
      "Epoch: 44, Train loss: 0.021, Epoch time = 0.664s\n",
      "Epoch: 45, Train loss: 0.024, Epoch time = 0.674s\n",
      "Epoch: 46, Train loss: 0.024, Epoch time = 0.668s\n",
      "Epoch: 47, Train loss: 0.026, Epoch time = 0.678s\n",
      "Epoch: 48, Train loss: 0.042, Epoch time = 0.661s\n",
      "Epoch: 49, Train loss: 0.033, Epoch time = 0.661s\n",
      "Epoch: 50, Train loss: 0.030, Epoch time = 0.673s\n",
      "Epoch: 51, Train loss: 0.025, Epoch time = 0.705s\n",
      "Epoch: 52, Train loss: 0.019, Epoch time = 0.674s\n",
      "Epoch: 53, Train loss: 0.018, Epoch time = 0.673s\n",
      "Epoch: 54, Train loss: 0.013, Epoch time = 0.675s\n",
      "Epoch: 55, Train loss: 0.013, Epoch time = 0.673s\n",
      "Epoch: 56, Train loss: 0.010, Epoch time = 0.674s\n",
      "Epoch: 57, Train loss: 0.007, Epoch time = 0.686s\n",
      "Epoch: 58, Train loss: 0.005, Epoch time = 0.677s\n",
      "Epoch: 59, Train loss: 0.005, Epoch time = 0.681s\n",
      "Epoch: 60, Train loss: 0.004, Epoch time = 0.678s\n"
     ]
    }
   ],
   "source": [
    "for p in cnn_1d.parameters():\n",
    "    if p.dim() > 1:\n",
    "        nn.init.kaiming_uniform_(p)\n",
    "        \n",
    "optimizer = torch.optim.Adam(cnn_1d.parameters(), lr=lr, betas=betas, eps=eps)\n",
    "\n",
    "# start a new experiment\n",
    "wandb.init(project=\"statML\", entity=\"mohnik\")\n",
    "\n",
    "# capture a dictionary of hyperparameters with config\n",
    "wandb.config = {\"learning_rate\": lr, \"epochs\": NUM_EPOCHS, \"batch_size\": BATCH_SIZE}\n",
    "\n",
    "wandb.watch(cnn_1d, loss_fn, log='all', log_freq=20)\n",
    "\n",
    "for epoch in range(1, NUM_EPOCHS+1):\n",
    "    start_time = timer()\n",
    "    train_loss = train_deploy_epoch(cnn_1d, optimizer)\n",
    "    end_time = timer()\n",
    " \n",
    "    val_loss = evaluate(cnn_1d)\n",
    "     # Where the magic happens\n",
    "    wandb.log({\"epoch\": epoch, \"train_loss\": train_loss})\n",
    "\n",
    "    # Optional\n",
    "    # wandb.watch(mlp)\n",
    "\n",
    "    print((f\"Epoch: {epoch}, Train loss: {train_loss:.3f}, \"f\"Epoch time = {(end_time - start_time):.3f}s\"))\n",
    "\n",
    "    \n",
    "    \n",
    "\n"
   ]
  },
  {
   "cell_type": "markdown",
   "id": "10f92e5b-4799-4b45-a24b-3de76fb9510c",
   "metadata": {},
   "source": [
    "## STest performance"
   ]
  },
  {
   "cell_type": "code",
   "execution_count": 16,
   "id": "c05d75f7-175f-4a59-993b-cb4674251faf",
   "metadata": {},
   "outputs": [
    {
     "data": {
      "image/png": "[encoded data removed]",
      "text/plain": [
       "<Figure size 864x360 with 4 Axes>"
      ]
     },
     "metadata": {
      "needs_background": "light"
     },
     "output_type": "display_data"
    },
    {
     "name": "stdout",
     "output_type": "stream",
     "text": [
      "test\n",
      "              precision    recall  f1-score   support\n",
      "\n",
      "           0      1.000     0.083     0.154        12\n",
      "           1      0.600     0.625     0.612        24\n",
      "           2      0.250     0.208     0.227        24\n",
      "           3      0.500     0.375     0.429        24\n",
      "           4      0.407     0.458     0.431        24\n",
      "           5      0.467     0.583     0.519        24\n",
      "           6      0.400     0.500     0.444        24\n",
      "           7      0.552     0.667     0.604        24\n",
      "\n",
      "    accuracy                          0.461       180\n",
      "   macro avg      0.522     0.438     0.428       180\n",
      "weighted avg      0.490     0.461     0.446       180\n",
      "\n"
     ]
    }
   ],
   "source": [
    "from sklearn.metrics import confusion_matrix\n",
    "import seaborn as sns\n",
    "import numpy as np\n",
    "from sklearn import metrics\n",
    "\n",
    "def get_confusion_matrix(mdl, dataloader):\n",
    "    y_pred = []\n",
    "    y_true = []\n",
    "    correct = 0\n",
    "    total = 0\n",
    "    with torch.no_grad():\n",
    "        mdl.eval()\n",
    "        for src, tgt in dataloader:\n",
    "            src = src.to(DEVICE)\n",
    "            tgt = tgt.to(DEVICE)\n",
    "            # print(src.shape)\n",
    "            outputs = mdl(src)\n",
    "            # labels = labels.argmax(1)\n",
    "            predicted = outputs.argmax(1)\n",
    "            y_pred.append(predicted.cpu().numpy())\n",
    "            y_true.append(tgt.cpu().numpy())\n",
    "            \n",
    "\n",
    "            total += len(src)\n",
    "            correct += (tgt == predicted).sum().item()\n",
    "    # print(np.shape(y_true))\n",
    "    y_true, y_pred = np.concatenate(y_true), np.concatenate(y_pred)\n",
    "    \n",
    "    stats=metrics.classification_report(y_true, y_pred, digits=3, zero_division=0)\n",
    "\n",
    "    # print(np.shape(y_true))\n",
    "    cm = confusion_matrix(y_true, y_pred)\n",
    "    return cm, stats\n",
    "\n",
    "def plot_cm(cm):\n",
    "    f, axs = plt.subplots(1,2, figsize=(12,5))\n",
    "    sns.heatmap(cm, annot=True, cmap='Blues', ax=axs[0])\n",
    "    sns.heatmap(cm/cm.sum(1).reshape(-1,1), annot=True, cmap='Blues', ax=axs[1])\n",
    "    plt.show()\n",
    "    \n",
    "\n",
    "\n",
    "test_iter = RAVDESSFeatureDataset(split='test',split_by=SPLIT_BY, root_dir=root_features, mean=MEAN, std= STD, feature_2d=False)#Multi30k(split='train', language_pair=(SRC_LANGUAGE, TGT_LANGUAGE))\n",
    "test_dataloader = DataLoader(test_iter, batch_size=1, shuffle=True)\n",
    "    \n",
    "test_cm, test_metrics = get_confusion_matrix(cnn_1d,test_dataloader)\n",
    "# test_acc = (test_cm*np.eye(len(test_cm))).sum()/np.sum(test_cm)\n",
    "\n",
    "# # print(test_cm)\n",
    "# true_pos = np.diag(test_cm)\n",
    "# test_precision = np.sum(true_pos / np.sum(test_cm, axis=0))\n",
    "# test_recall = np.sum(true_pos / np.sum(test_cm, axis=1))\n",
    "\n",
    "\n",
    "\n",
    "\n",
    "plot_cm(test_cm)\n",
    "# print(f'Test accuracy: {test_acc}, precesion: {test_precision}, recall: {test_recall}')\n",
    "print(\"test\")\n",
    "print(test_metrics)\n",
    "\n",
    "\n"
   ]
  },
  {
   "cell_type": "code",
   "execution_count": null,
   "id": "2570209a-c72f-4d93-b30d-098f8f5f60bb",
   "metadata": {},
   "outputs": [],
   "source": []
  }
 ],
 "metadata": {
  "kernelspec": {
   "display_name": "Python 3 (ipykernel)",
   "language": "python",
   "name": "python3"
  },
  "language_info": {
   "codemirror_mode": {
    "name": "ipython",
    "version": 3
   },
   "file_extension": ".py",
   "mimetype": "text/x-python",
   "name": "python",
   "nbconvert_exporter": "python",
   "pygments_lexer": "ipython3",
   "version": "3.9.7"
  }
 },
 "nbformat": 4,
 "nbformat_minor": 5
}
