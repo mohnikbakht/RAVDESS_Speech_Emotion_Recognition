{
 "cells": [
  {
   "cell_type": "code",
   "execution_count": 2,
   "id": "06106ded",
   "metadata": {},
   "outputs": [],
   "source": [
    "# Format Data for CNN and NN\n",
    "\n",
    "import numpy as np\n",
    "import os\n",
    "import pickle\n",
    "from utils import *\n",
    "import torch\n",
    "\n",
    "train_dir = 'FeaturesTrain'\n",
    "# test_dir = 'FeatruesTest'\n",
    "\n",
    "\n",
    "DATA = []\n",
    "d = train_dir\n",
    "for i in os.listdir(d):\n",
    "    with open(os.path.join(d,i), 'rb') as f:\n",
    "        DATA.append(pickle.load(f))\n",
    "\n",
    "\n",
    "from sklearn.model_selection import train_test_split\n",
    "\n",
    "\n",
    "x_keys = ['mfccCoeffs', 'chromaCoeffs','contrastCoeffs', 'tonnetz','melspectCoeffs']\n",
    "\n",
    "Y = np.c_[[emotion_labels[i['emotion']] for i in DATA]].flatten()\n",
    "X = np.c_[[np.concatenate([standard_scale[j](i[j]) for j in x_keys]).reshape(1,-1) for i in DATA]]\n",
    "x_train, x_val, y_train, y_val = train_test_split(X, Y, train_size=0.8, stratify=Y)\n",
    "\n",
    "\n",
    "from imblearn.over_sampling import RandomOverSampler \n",
    "\n",
    "idxs = np.arange(len(x_train)).reshape(-1,1)\n",
    "ros = RandomOverSampler(random_state=42)\n",
    "rs_idx, y_idx = ros.fit_resample(idxs, y_train)\n",
    "rs_idx = rs_idx.flatten()\n",
    "x_train = x_train[rs_idx]\n",
    "y_train = y_train[rs_idx]\n",
    "\n",
    "\n",
    "from torch.utils.data import Dataset, DataLoader\n",
    "AD_train = AudioData(x_train, y_train)\n",
    "AD_val = AudioData(x_val, y_val)\n",
    "\n",
    "trainloader = DataLoader(AD_train, batch_size=8, shuffle=True)\n",
    "valloader = DataLoader(AD_val, batch_size=8, shuffle=True)\n",
    "\n",
    "\n",
    "device = torch.device('cpu')"
   ]
  },
  {
   "cell_type": "markdown",
   "id": "a5ab27e1",
   "metadata": {},
   "source": [
    "## NN"
   ]
  },
  {
   "cell_type": "code",
   "execution_count": 3,
   "id": "affad3ee",
   "metadata": {},
   "outputs": [
    {
     "data": {
      "text/plain": [
       "NN(\n",
       "  (flatten): Flatten(start_dim=1, end_dim=-1)\n",
       "  (linear_relu_stack): Sequential(\n",
       "    (0): Linear(in_features=141860, out_features=512, bias=True)\n",
       "    (1): BatchNorm1d(512, eps=1e-05, momentum=0.1, affine=True, track_running_stats=True)\n",
       "    (2): ReLU()\n",
       "    (3): Linear(in_features=512, out_features=512, bias=True)\n",
       "    (4): ReLU()\n",
       "    (5): Linear(in_features=512, out_features=512, bias=True)\n",
       "    (6): ReLU()\n",
       "    (7): Linear(in_features=512, out_features=8, bias=True)\n",
       "  )\n",
       ")"
      ]
     },
     "execution_count": 3,
     "metadata": {},
     "output_type": "execute_result"
    }
   ],
   "source": [
    "from models import NN\n",
    "import torch\n",
    "\n",
    "nn = NN(141860)\n",
    "nn.load_state_dict(torch.load('models/nn.pt'))\n",
    "nn.eval()\n"
   ]
  },
  {
   "cell_type": "code",
   "execution_count": 4,
   "id": "f9fc8f16",
   "metadata": {},
   "outputs": [
    {
     "data": {
      "text/plain": [
       "array([[31,  0,  0,  0,  0,  1,  0,  0],\n",
       "       [ 0, 30,  0,  0,  1,  0,  1,  0],\n",
       "       [ 1,  0, 28,  1,  0,  0,  1,  1],\n",
       "       [ 1,  0,  0, 29,  1,  0,  0,  1],\n",
       "       [ 0,  0,  0,  2, 30,  0,  0,  0],\n",
       "       [ 0,  1,  0,  0,  0, 15,  0,  0],\n",
       "       [ 0,  1,  0,  0,  2,  0, 28,  1],\n",
       "       [ 0,  0,  0,  2,  0,  0,  0, 30]])"
      ]
     },
     "execution_count": 4,
     "metadata": {},
     "output_type": "execute_result"
    }
   ],
   "source": [
    "from utils import confusionMatrix\n",
    "\n",
    "confusionMatrix(nn, valloader)"
   ]
  },
  {
   "cell_type": "code",
   "execution_count": null,
   "id": "c7611bcb",
   "metadata": {},
   "outputs": [],
   "source": []
  },
  {
   "cell_type": "markdown",
   "id": "4ebd4360",
   "metadata": {},
   "source": [
    "## CNN"
   ]
  },
  {
   "cell_type": "code",
   "execution_count": 5,
   "id": "ed7e0a99",
   "metadata": {},
   "outputs": [
    {
     "data": {
      "text/plain": [
       "ConvNet(\n",
       "  (convnet): Sequential(\n",
       "    (0): Conv1d(1, 128, kernel_size=(5,), stride=(1,), padding=same)\n",
       "    (1): ReLU()\n",
       "    (2): MaxPool1d(kernel_size=4, stride=4, padding=0, dilation=1, ceil_mode=False)\n",
       "    (3): Conv1d(128, 128, kernel_size=(5,), stride=(1,), padding=same)\n",
       "    (4): ReLU()\n",
       "    (5): MaxPool1d(kernel_size=4, stride=4, padding=0, dilation=1, ceil_mode=False)\n",
       "    (6): Conv1d(128, 128, kernel_size=(5,), stride=(1,), padding=same)\n",
       "    (7): ReLU()\n",
       "    (8): MaxPool1d(kernel_size=4, stride=4, padding=0, dilation=1, ceil_mode=False)\n",
       "    (9): Flatten(start_dim=1, end_dim=-1)\n",
       "    (10): Linear(in_features=283648, out_features=512, bias=True)\n",
       "    (11): BatchNorm1d(512, eps=1e-05, momentum=0.1, affine=True, track_running_stats=True)\n",
       "    (12): ReLU()\n",
       "    (13): Linear(in_features=512, out_features=8, bias=True)\n",
       "  )\n",
       ")"
      ]
     },
     "execution_count": 5,
     "metadata": {},
     "output_type": "execute_result"
    }
   ],
   "source": [
    "from models import ConvNet\n",
    "import torch\n",
    "\n",
    "\n",
    "cnn = ConvNet(173)\n",
    "cnn.load_state_dict(torch.load('models/cnn.pt'))\n",
    "cnn.eval()"
   ]
  },
  {
   "cell_type": "code",
   "execution_count": 6,
   "id": "33fef6e2",
   "metadata": {},
   "outputs": [
    {
     "data": {
      "text/plain": [
       "array([[31,  0,  0,  0,  0,  1,  0,  0],\n",
       "       [ 0, 32,  0,  0,  0,  0,  0,  0],\n",
       "       [ 1,  0, 29,  1,  0,  0,  1,  0],\n",
       "       [ 0,  0,  0, 32,  0,  0,  0,  0],\n",
       "       [ 2,  0,  0,  0, 30,  0,  0,  0],\n",
       "       [ 0,  1,  0,  0,  0, 15,  0,  0],\n",
       "       [ 0,  0,  0,  2,  0,  2, 28,  0],\n",
       "       [ 0,  0,  0,  1,  0,  0,  0, 31]])"
      ]
     },
     "execution_count": 6,
     "metadata": {},
     "output_type": "execute_result"
    }
   ],
   "source": [
    "from utils import confusionMatrix\n",
    "\n",
    "confusionMatrix(cnn, valloader)"
   ]
  },
  {
   "cell_type": "code",
   "execution_count": null,
   "id": "8c9c0cc6",
   "metadata": {},
   "outputs": [],
   "source": []
  }
 ],
 "metadata": {
  "kernelspec": {
   "display_name": "Python 3 (ipykernel)",
   "language": "python",
   "name": "python3"
  },
  "language_info": {
   "codemirror_mode": {
    "name": "ipython",
    "version": 3
   },
   "file_extension": ".py",
   "mimetype": "text/x-python",
   "name": "python",
   "nbconvert_exporter": "python",
   "pygments_lexer": "ipython3",
   "version": "3.8.12"
  }
 },
 "nbformat": 4,
 "nbformat_minor": 5
}
