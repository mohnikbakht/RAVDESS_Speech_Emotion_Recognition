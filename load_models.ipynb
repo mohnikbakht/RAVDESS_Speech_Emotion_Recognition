{
 "cells": [
  {
   "cell_type": "code",
   "execution_count": 1,
   "id": "d2ed139d",
   "metadata": {},
   "outputs": [],
   "source": [
    "# Format Data for CNN and NN\n",
    "\n",
    "import numpy as np\n",
    "import os\n",
    "import pickle\n",
    "from utils import *\n",
    "import torch\n",
    "\n",
    "train_dir = 'FeaturesTrain' # samples used for training and validation\n",
    "# test_dir = 'FeatruesTest'\n",
    "\n",
    "\n",
    "DATA = []\n",
    "d = train_dir\n",
    "for i in os.listdir(d):\n",
    "    with open(os.path.join(d,i), 'rb') as f:\n",
    "        DATA.append(pickle.load(f))\n",
    "\n",
    "x_keys = ['mfccCoeffs', 'chromaCoeffs','contrastCoeffs', 'tonnetz','melspectCoeffs']\n",
    "Y = np.c_[[emotion_labels[i['emotion']] for i in DATA]].flatten()\n",
    "X = np.c_[[np.concatenate([standard_scale[j](i[j]) for j in x_keys]).reshape(1,-1) for i in DATA]]\n",
    "\n",
    "AD_data = AudioData(X, Y)\n",
    "dataloader = DataLoader(AD_data, batch_size=8, shuffle=True)\n",
    "\n",
    "\n",
    "device = torch.device('cpu')"
   ]
  },
  {
   "cell_type": "markdown",
   "id": "95542d3b",
   "metadata": {},
   "source": [
    "# Logistic Regression"
   ]
  },
  {
   "cell_type": "code",
   "execution_count": 2,
   "id": "d3332998",
   "metadata": {},
   "outputs": [],
   "source": [
    "import pickle\n",
    "\n",
    "with open('models/LogisticRegression.pkl', 'rb') as f:\n",
    "    LR_pkl = pickle.load(f)\n",
    "    \n",
    "x_keys = LR_pkl['keys']\n",
    "LR = LR_pkl['model']\n",
    "\n",
    "Y = np.c_[[emotion_labels[i['emotion']] for i in DATA]].flatten()\n",
    "X = np.c_[[np.concatenate([standard_scale[j](i[j]) for j in x_keys]).flatten() for i in DATA]]\n",
    "# x_train, x_val, y_train, y_val = train_test_split(X, Y, train_size=0.8, stratify=Y)"
   ]
  },
  {
   "cell_type": "code",
   "execution_count": 3,
   "id": "19053661",
   "metadata": {},
   "outputs": [
    {
     "data": {
      "text/plain": [
       "array(['mfccCoeffs', 'chromaCoeffs', 'melspectCoeffs'], dtype='<U14')"
      ]
     },
     "execution_count": 3,
     "metadata": {},
     "output_type": "execute_result"
    }
   ],
   "source": [
    "x_keys"
   ]
  },
  {
   "cell_type": "code",
   "execution_count": 4,
   "id": "9a0d7796",
   "metadata": {},
   "outputs": [
    {
     "data": {
      "text/plain": [
       "0.9866666666666667"
      ]
     },
     "execution_count": 4,
     "metadata": {},
     "output_type": "execute_result"
    }
   ],
   "source": [
    "LR.score(X, Y)"
   ]
  },
  {
   "cell_type": "markdown",
   "id": "27ce85f9",
   "metadata": {},
   "source": [
    "## NN"
   ]
  },
  {
   "cell_type": "code",
   "execution_count": 5,
   "id": "81a9ee19",
   "metadata": {},
   "outputs": [
    {
     "data": {
      "text/plain": [
       "NN(\n",
       "  (flatten): Flatten(start_dim=1, end_dim=-1)\n",
       "  (linear_relu_stack): Sequential(\n",
       "    (0): Linear(in_features=141860, out_features=512, bias=True)\n",
       "    (1): BatchNorm1d(512, eps=1e-05, momentum=0.1, affine=True, track_running_stats=True)\n",
       "    (2): ReLU()\n",
       "    (3): Linear(in_features=512, out_features=512, bias=True)\n",
       "    (4): ReLU()\n",
       "    (5): Linear(in_features=512, out_features=512, bias=True)\n",
       "    (6): ReLU()\n",
       "    (7): Linear(in_features=512, out_features=8, bias=True)\n",
       "  )\n",
       ")"
      ]
     },
     "execution_count": 5,
     "metadata": {},
     "output_type": "execute_result"
    }
   ],
   "source": [
    "from models import NN\n",
    "import torch\n",
    "\n",
    "nn = NN(141860)\n",
    "nn.load_state_dict(torch.load('models/nn.pt'))\n",
    "nn.eval()\n"
   ]
  },
  {
   "cell_type": "code",
   "execution_count": 6,
   "id": "418d3d0c",
   "metadata": {},
   "outputs": [
    {
     "data": {
      "text/plain": [
       "array([[153,   0,   0,   1,   4,   1,   1,   0],\n",
       "       [  0, 149,   3,   0,   1,   2,   3,   2],\n",
       "       [  3,   0, 151,   2,   0,   2,   1,   1],\n",
       "       [  2,   0,   0, 151,   1,   0,   1,   5],\n",
       "       [  2,   2,   0,   7, 145,   1,   2,   1],\n",
       "       [  0,   5,   0,   0,   3,  71,   0,   1],\n",
       "       [  0,   4,   3,   0,   7,   3, 141,   2],\n",
       "       [  0,   0,   6,   4,   5,   0,   0, 145]])"
      ]
     },
     "execution_count": 6,
     "metadata": {},
     "output_type": "execute_result"
    }
   ],
   "source": [
    "from utils import confusionMatrix\n",
    "\n",
    "confusionMatrix(nn, dataloader)"
   ]
  },
  {
   "cell_type": "code",
   "execution_count": null,
   "id": "65f9ffa5",
   "metadata": {},
   "outputs": [],
   "source": []
  },
  {
   "cell_type": "markdown",
   "id": "de218eb6",
   "metadata": {},
   "source": [
    "## CNN"
   ]
  },
  {
   "cell_type": "code",
   "execution_count": 7,
   "id": "a6811d79",
   "metadata": {},
   "outputs": [
    {
     "data": {
      "text/plain": [
       "ConvNet(\n",
       "  (convnet): Sequential(\n",
       "    (0): Conv1d(1, 128, kernel_size=(5,), stride=(1,), padding=same)\n",
       "    (1): ReLU()\n",
       "    (2): MaxPool1d(kernel_size=4, stride=4, padding=0, dilation=1, ceil_mode=False)\n",
       "    (3): Conv1d(128, 128, kernel_size=(5,), stride=(1,), padding=same)\n",
       "    (4): ReLU()\n",
       "    (5): MaxPool1d(kernel_size=4, stride=4, padding=0, dilation=1, ceil_mode=False)\n",
       "    (6): Conv1d(128, 128, kernel_size=(5,), stride=(1,), padding=same)\n",
       "    (7): ReLU()\n",
       "    (8): MaxPool1d(kernel_size=4, stride=4, padding=0, dilation=1, ceil_mode=False)\n",
       "    (9): Flatten(start_dim=1, end_dim=-1)\n",
       "    (10): Linear(in_features=283648, out_features=512, bias=True)\n",
       "    (11): BatchNorm1d(512, eps=1e-05, momentum=0.1, affine=True, track_running_stats=True)\n",
       "    (12): ReLU()\n",
       "    (13): Linear(in_features=512, out_features=8, bias=True)\n",
       "  )\n",
       ")"
      ]
     },
     "execution_count": 7,
     "metadata": {},
     "output_type": "execute_result"
    }
   ],
   "source": [
    "from models import ConvNet\n",
    "import torch\n",
    "\n",
    "\n",
    "cnn = ConvNet(173)\n",
    "cnn.load_state_dict(torch.load('models/cnn.pt'))\n",
    "cnn.eval()"
   ]
  },
  {
   "cell_type": "code",
   "execution_count": 8,
   "id": "f575e12f",
   "metadata": {},
   "outputs": [
    {
     "data": {
      "text/plain": [
       "array([[155,   0,   2,   0,   1,   2,   0,   0],\n",
       "       [  1, 153,   0,   0,   1,   3,   2,   0],\n",
       "       [  1,   0, 151,   3,   1,   0,   3,   1],\n",
       "       [  0,   0,   2, 149,   3,   1,   4,   1],\n",
       "       [  2,   1,   0,   1, 153,   2,   0,   1],\n",
       "       [  0,   1,   0,   0,   0,  78,   1,   0],\n",
       "       [  0,   3,   0,   2,   2,   5, 147,   1],\n",
       "       [  1,   0,   0,   5,   1,   3,   0, 150]])"
      ]
     },
     "execution_count": 8,
     "metadata": {},
     "output_type": "execute_result"
    }
   ],
   "source": [
    "from utils import confusionMatrix\n",
    "\n",
    "confusionMatrix(cnn, dataloader)"
   ]
  },
  {
   "cell_type": "markdown",
   "id": "eb68a2a1",
   "metadata": {},
   "source": [
    "## RNN"
   ]
  },
  {
   "cell_type": "code",
   "execution_count": 9,
   "id": "9848633f",
   "metadata": {
    "scrolled": true
   },
   "outputs": [
    {
     "data": {
      "text/plain": [
       "BiRNN(\n",
       "  (lstm1): LSTM(173, 128, batch_first=True, bidirectional=True)\n",
       "  (lstm2): LSTM(256, 256, batch_first=True, bidirectional=True)\n",
       "  (fc1): Linear(in_features=512, out_features=128, bias=True)\n",
       "  (fc2): Linear(in_features=128, out_features=8, bias=True)\n",
       ")"
      ]
     },
     "execution_count": 9,
     "metadata": {},
     "output_type": "execute_result"
    }
   ],
   "source": [
    "from models import BiRNN\n",
    "import torch\n",
    "\n",
    "hidden_size = 128\n",
    "num_classes = 8\n",
    "num_layers = 1\n",
    "input_size = 173\n",
    "\n",
    "rnn = BiRNN(input_size, hidden_size, num_layers, num_classes)\n",
    "rnn.load_state_dict(torch.load('models/rnn.pt'))\n",
    "rnn.eval()"
   ]
  },
  {
   "cell_type": "code",
   "execution_count": 10,
   "id": "a3b1562a",
   "metadata": {},
   "outputs": [],
   "source": [
    "x_keys = ['mfccCoeffs', 'chromaCoeffs','contrastCoeffs', 'tonnetz','melspectCoeffs']\n",
    "X = np.c_[[np.concatenate([standard_scale[j](i[j]) for j in x_keys]).T for i in DATA]]\n",
    "\n",
    "AD_data_rnn = AudioData(X,Y)\n",
    "dataloader_rnn = DataLoader(AD_data_rnn, batch_size=8, shuffle=True)\n"
   ]
  },
  {
   "cell_type": "code",
   "execution_count": 11,
   "id": "30f82843",
   "metadata": {},
   "outputs": [
    {
     "data": {
      "text/plain": [
       "array([[111,   2,  15,   9,   5,   0,   5,  13],\n",
       "       [  0,  93,   3,   1,   1,  27,  33,   2],\n",
       "       [ 18,   4, 101,   4,   2,   6,   9,  16],\n",
       "       [  3,   0,   0, 109,   9,   5,  11,  23],\n",
       "       [ 13,   2,   5,  48,  37,   4,  14,  37],\n",
       "       [  0,  12,   0,   0,   4,  37,  18,   9],\n",
       "       [  8,  16,   3,  18,   9,  11,  71,  24],\n",
       "       [  8,   0,   7,  16,   9,   9,   5, 106]])"
      ]
     },
     "execution_count": 11,
     "metadata": {},
     "output_type": "execute_result"
    }
   ],
   "source": [
    "confusionMatrix(rnn, dataloader_rnn)"
   ]
  },
  {
   "cell_type": "code",
   "execution_count": null,
   "id": "7fb14cd7",
   "metadata": {},
   "outputs": [],
   "source": []
  }
 ],
 "metadata": {
  "kernelspec": {
   "display_name": "Python 3 (ipykernel)",
   "language": "python",
   "name": "python3"
  },
  "language_info": {
   "codemirror_mode": {
    "name": "ipython",
    "version": 3
   },
   "file_extension": ".py",
   "mimetype": "text/x-python",
   "name": "python",
   "nbconvert_exporter": "python",
   "pygments_lexer": "ipython3",
   "version": "3.8.12"
  }
 },
 "nbformat": 4,
 "nbformat_minor": 5
}
